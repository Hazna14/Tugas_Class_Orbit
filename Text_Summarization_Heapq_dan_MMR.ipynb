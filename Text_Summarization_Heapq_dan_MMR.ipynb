{
  "nbformat": 4,
  "nbformat_minor": 0,
  "metadata": {
    "colab": {
      "name": "Text_Summarization_Heapq_dan_MMR.ipynb",
      "provenance": []
    },
    "kernelspec": {
      "name": "python3",
      "display_name": "Python 3"
    },
    "language_info": {
      "name": "python"
    }
  },
  "cells": [
    {
      "cell_type": "markdown",
      "metadata": {
        "id": "1fB5K03-aQ-k"
      },
      "source": [
        "Heapq"
      ]
    },
    {
      "cell_type": "code",
      "metadata": {
        "colab": {
          "base_uri": "https://localhost:8080/"
        },
        "id": "xq7Sjk-uWZ2F",
        "outputId": "e8978cf0-c3a1-4a58-82ef-92f25e907da2"
      },
      "source": [
        "!pip install sastrawi\n",
        "!pip install newspaper3k\n",
        "!pip install spacy"
      ],
      "execution_count": null,
      "outputs": [
        {
          "output_type": "stream",
          "name": "stdout",
          "text": [
            "Collecting sastrawi\n",
            "  Downloading Sastrawi-1.0.1-py2.py3-none-any.whl (209 kB)\n",
            "\u001b[?25l\r\u001b[K     |█▋                              | 10 kB 20.8 MB/s eta 0:00:01\r\u001b[K     |███▏                            | 20 kB 26.8 MB/s eta 0:00:01\r\u001b[K     |████▊                           | 30 kB 16.3 MB/s eta 0:00:01\r\u001b[K     |██████▎                         | 40 kB 11.6 MB/s eta 0:00:01\r\u001b[K     |███████▉                        | 51 kB 4.8 MB/s eta 0:00:01\r\u001b[K     |█████████▍                      | 61 kB 4.5 MB/s eta 0:00:01\r\u001b[K     |███████████                     | 71 kB 5.0 MB/s eta 0:00:01\r\u001b[K     |████████████▌                   | 81 kB 5.6 MB/s eta 0:00:01\r\u001b[K     |██████████████                  | 92 kB 5.7 MB/s eta 0:00:01\r\u001b[K     |███████████████▋                | 102 kB 4.6 MB/s eta 0:00:01\r\u001b[K     |█████████████████▏              | 112 kB 4.6 MB/s eta 0:00:01\r\u001b[K     |██████████████████▊             | 122 kB 4.6 MB/s eta 0:00:01\r\u001b[K     |████████████████████▎           | 133 kB 4.6 MB/s eta 0:00:01\r\u001b[K     |█████████████████████▉          | 143 kB 4.6 MB/s eta 0:00:01\r\u001b[K     |███████████████████████▍        | 153 kB 4.6 MB/s eta 0:00:01\r\u001b[K     |█████████████████████████       | 163 kB 4.6 MB/s eta 0:00:01\r\u001b[K     |██████████████████████████▋     | 174 kB 4.6 MB/s eta 0:00:01\r\u001b[K     |████████████████████████████▏   | 184 kB 4.6 MB/s eta 0:00:01\r\u001b[K     |█████████████████████████████▊  | 194 kB 4.6 MB/s eta 0:00:01\r\u001b[K     |███████████████████████████████▎| 204 kB 4.6 MB/s eta 0:00:01\r\u001b[K     |████████████████████████████████| 209 kB 4.6 MB/s \n",
            "\u001b[?25hInstalling collected packages: sastrawi\n",
            "Successfully installed sastrawi-1.0.1\n",
            "Collecting newspaper3k\n",
            "  Downloading newspaper3k-0.2.8-py3-none-any.whl (211 kB)\n",
            "\u001b[K     |████████████████████████████████| 211 kB 4.0 MB/s \n",
            "\u001b[?25hCollecting tldextract>=2.0.1\n",
            "  Downloading tldextract-3.1.2-py2.py3-none-any.whl (87 kB)\n",
            "\u001b[K     |████████████████████████████████| 87 kB 5.5 MB/s \n",
            "\u001b[?25hRequirement already satisfied: PyYAML>=3.11 in /usr/local/lib/python3.7/dist-packages (from newspaper3k) (3.13)\n",
            "Collecting jieba3k>=0.35.1\n",
            "  Downloading jieba3k-0.35.1.zip (7.4 MB)\n",
            "\u001b[K     |████████████████████████████████| 7.4 MB 42.4 MB/s \n",
            "\u001b[?25hRequirement already satisfied: Pillow>=3.3.0 in /usr/local/lib/python3.7/dist-packages (from newspaper3k) (7.1.2)\n",
            "Requirement already satisfied: lxml>=3.6.0 in /usr/local/lib/python3.7/dist-packages (from newspaper3k) (4.2.6)\n",
            "Requirement already satisfied: nltk>=3.2.1 in /usr/local/lib/python3.7/dist-packages (from newspaper3k) (3.2.5)\n",
            "Requirement already satisfied: requests>=2.10.0 in /usr/local/lib/python3.7/dist-packages (from newspaper3k) (2.23.0)\n",
            "Collecting feedfinder2>=0.0.4\n",
            "  Downloading feedfinder2-0.0.4.tar.gz (3.3 kB)\n",
            "Requirement already satisfied: python-dateutil>=2.5.3 in /usr/local/lib/python3.7/dist-packages (from newspaper3k) (2.8.2)\n",
            "Requirement already satisfied: beautifulsoup4>=4.4.1 in /usr/local/lib/python3.7/dist-packages (from newspaper3k) (4.6.3)\n",
            "Collecting cssselect>=0.9.2\n",
            "  Downloading cssselect-1.1.0-py2.py3-none-any.whl (16 kB)\n",
            "Collecting feedparser>=5.2.1\n",
            "  Downloading feedparser-6.0.8-py3-none-any.whl (81 kB)\n",
            "\u001b[K     |████████████████████████████████| 81 kB 9.1 MB/s \n",
            "\u001b[?25hCollecting tinysegmenter==0.3\n",
            "  Downloading tinysegmenter-0.3.tar.gz (16 kB)\n",
            "Requirement already satisfied: six in /usr/local/lib/python3.7/dist-packages (from feedfinder2>=0.0.4->newspaper3k) (1.15.0)\n",
            "Collecting sgmllib3k\n",
            "  Downloading sgmllib3k-1.0.0.tar.gz (5.8 kB)\n",
            "Requirement already satisfied: urllib3!=1.25.0,!=1.25.1,<1.26,>=1.21.1 in /usr/local/lib/python3.7/dist-packages (from requests>=2.10.0->newspaper3k) (1.24.3)\n",
            "Requirement already satisfied: certifi>=2017.4.17 in /usr/local/lib/python3.7/dist-packages (from requests>=2.10.0->newspaper3k) (2021.5.30)\n",
            "Requirement already satisfied: idna<3,>=2.5 in /usr/local/lib/python3.7/dist-packages (from requests>=2.10.0->newspaper3k) (2.10)\n",
            "Requirement already satisfied: chardet<4,>=3.0.2 in /usr/local/lib/python3.7/dist-packages (from requests>=2.10.0->newspaper3k) (3.0.4)\n",
            "Requirement already satisfied: filelock>=3.0.8 in /usr/local/lib/python3.7/dist-packages (from tldextract>=2.0.1->newspaper3k) (3.3.0)\n",
            "Collecting requests-file>=1.4\n",
            "  Downloading requests_file-1.5.1-py2.py3-none-any.whl (3.7 kB)\n",
            "Building wheels for collected packages: tinysegmenter, feedfinder2, jieba3k, sgmllib3k\n",
            "  Building wheel for tinysegmenter (setup.py) ... \u001b[?25l\u001b[?25hdone\n",
            "  Created wheel for tinysegmenter: filename=tinysegmenter-0.3-py3-none-any.whl size=13552 sha256=0d7c207b2d8ae4995c1b8ec003158246d2fa34a23f4f95ebc38e9660b8942506\n",
            "  Stored in directory: /root/.cache/pip/wheels/df/67/41/faca10fa501ca010be41b49d40360c2959e1c4f09bcbfa37fa\n",
            "  Building wheel for feedfinder2 (setup.py) ... \u001b[?25l\u001b[?25hdone\n",
            "  Created wheel for feedfinder2: filename=feedfinder2-0.0.4-py3-none-any.whl size=3356 sha256=698c66ef6f901699a87d6f53d13c85b630dda038d91d14285b1f123667117e26\n",
            "  Stored in directory: /root/.cache/pip/wheels/7f/d4/8f/6e2ca54744c9d7292d88ddb8d42876bcdab5e6d84a21c10346\n",
            "  Building wheel for jieba3k (setup.py) ... \u001b[?25l\u001b[?25hdone\n",
            "  Created wheel for jieba3k: filename=jieba3k-0.35.1-py3-none-any.whl size=7398405 sha256=11b475a5e315ad321dcb6921017fd4458cee1ec0a7c70e26d8419fc81c18e0d6\n",
            "  Stored in directory: /root/.cache/pip/wheels/4c/91/46/3c208287b726df325a5979574324878b679116e4baae1af3c3\n",
            "  Building wheel for sgmllib3k (setup.py) ... \u001b[?25l\u001b[?25hdone\n",
            "  Created wheel for sgmllib3k: filename=sgmllib3k-1.0.0-py3-none-any.whl size=6065 sha256=8880e6195bac1057abef5b5cb0e8693d3ba63fb289567c53fdd3d202a2728f51\n",
            "  Stored in directory: /root/.cache/pip/wheels/73/ad/a4/0dff4a6ef231fc0dfa12ffbac2a36cebfdddfe059f50e019aa\n",
            "Successfully built tinysegmenter feedfinder2 jieba3k sgmllib3k\n",
            "Installing collected packages: sgmllib3k, requests-file, tldextract, tinysegmenter, jieba3k, feedparser, feedfinder2, cssselect, newspaper3k\n",
            "Successfully installed cssselect-1.1.0 feedfinder2-0.0.4 feedparser-6.0.8 jieba3k-0.35.1 newspaper3k-0.2.8 requests-file-1.5.1 sgmllib3k-1.0.0 tinysegmenter-0.3 tldextract-3.1.2\n",
            "Requirement already satisfied: spacy in /usr/local/lib/python3.7/dist-packages (2.2.4)\n",
            "Requirement already satisfied: requests<3.0.0,>=2.13.0 in /usr/local/lib/python3.7/dist-packages (from spacy) (2.23.0)\n",
            "Requirement already satisfied: murmurhash<1.1.0,>=0.28.0 in /usr/local/lib/python3.7/dist-packages (from spacy) (1.0.5)\n",
            "Requirement already satisfied: tqdm<5.0.0,>=4.38.0 in /usr/local/lib/python3.7/dist-packages (from spacy) (4.62.3)\n",
            "Requirement already satisfied: cymem<2.1.0,>=2.0.2 in /usr/local/lib/python3.7/dist-packages (from spacy) (2.0.5)\n",
            "Requirement already satisfied: setuptools in /usr/local/lib/python3.7/dist-packages (from spacy) (57.4.0)\n",
            "Requirement already satisfied: srsly<1.1.0,>=1.0.2 in /usr/local/lib/python3.7/dist-packages (from spacy) (1.0.5)\n",
            "Requirement already satisfied: thinc==7.4.0 in /usr/local/lib/python3.7/dist-packages (from spacy) (7.4.0)\n",
            "Requirement already satisfied: wasabi<1.1.0,>=0.4.0 in /usr/local/lib/python3.7/dist-packages (from spacy) (0.8.2)\n",
            "Requirement already satisfied: catalogue<1.1.0,>=0.0.7 in /usr/local/lib/python3.7/dist-packages (from spacy) (1.0.0)\n",
            "Requirement already satisfied: preshed<3.1.0,>=3.0.2 in /usr/local/lib/python3.7/dist-packages (from spacy) (3.0.5)\n",
            "Requirement already satisfied: numpy>=1.15.0 in /usr/local/lib/python3.7/dist-packages (from spacy) (1.19.5)\n",
            "Requirement already satisfied: plac<1.2.0,>=0.9.6 in /usr/local/lib/python3.7/dist-packages (from spacy) (1.1.3)\n",
            "Requirement already satisfied: blis<0.5.0,>=0.4.0 in /usr/local/lib/python3.7/dist-packages (from spacy) (0.4.1)\n",
            "Requirement already satisfied: importlib-metadata>=0.20 in /usr/local/lib/python3.7/dist-packages (from catalogue<1.1.0,>=0.0.7->spacy) (4.8.1)\n",
            "Requirement already satisfied: zipp>=0.5 in /usr/local/lib/python3.7/dist-packages (from importlib-metadata>=0.20->catalogue<1.1.0,>=0.0.7->spacy) (3.6.0)\n",
            "Requirement already satisfied: typing-extensions>=3.6.4 in /usr/local/lib/python3.7/dist-packages (from importlib-metadata>=0.20->catalogue<1.1.0,>=0.0.7->spacy) (3.7.4.3)\n",
            "Requirement already satisfied: chardet<4,>=3.0.2 in /usr/local/lib/python3.7/dist-packages (from requests<3.0.0,>=2.13.0->spacy) (3.0.4)\n",
            "Requirement already satisfied: idna<3,>=2.5 in /usr/local/lib/python3.7/dist-packages (from requests<3.0.0,>=2.13.0->spacy) (2.10)\n",
            "Requirement already satisfied: urllib3!=1.25.0,!=1.25.1,<1.26,>=1.21.1 in /usr/local/lib/python3.7/dist-packages (from requests<3.0.0,>=2.13.0->spacy) (1.24.3)\n",
            "Requirement already satisfied: certifi>=2017.4.17 in /usr/local/lib/python3.7/dist-packages (from requests<3.0.0,>=2.13.0->spacy) (2021.5.30)\n"
          ]
        }
      ]
    },
    {
      "cell_type": "code",
      "metadata": {
        "id": "fqqFHhZXXEzw"
      },
      "source": [
        "import Sastrawi\n",
        "from Sastrawi.StopWordRemover.StopWordRemoverFactory import StopWordRemoverFactory\n",
        "from string import punctuation\n",
        "import spacy\n",
        "import nltk\n",
        "import requests"
      ],
      "execution_count": null,
      "outputs": []
    },
    {
      "cell_type": "code",
      "metadata": {
        "colab": {
          "base_uri": "https://localhost:8080/"
        },
        "id": "E0cfRYP2XMvJ",
        "outputId": "13677619-bcda-42dd-c3b8-e3e4e523b6cf"
      },
      "source": [
        "nltk.download('punkt', quiet=True)"
      ],
      "execution_count": null,
      "outputs": [
        {
          "output_type": "execute_result",
          "data": {
            "text/plain": [
              "True"
            ]
          },
          "metadata": {},
          "execution_count": 8
        }
      ]
    },
    {
      "cell_type": "code",
      "metadata": {
        "id": "C589TLteXV_H"
      },
      "source": [
        "# Load Stopwords dengan mengambil dari link url repo github\n",
        "\n",
        "def load_stopWords():\n",
        "\turl = \"https://raw.githubusercontent.com/Wayan123/Sentiment-Analysis/main/stopwordlist.txt\"\n",
        "\tina_stopword = requests.get(url).content\n",
        "\treturn ina_stopword.split()\n",
        "\n",
        "stopwords = load_stopWords()"
      ],
      "execution_count": null,
      "outputs": []
    },
    {
      "cell_type": "code",
      "metadata": {
        "colab": {
          "base_uri": "https://localhost:8080/"
        },
        "id": "33ciGFusXtxw",
        "outputId": "82bee852-ada4-4521-c50a-ba8448630f59"
      },
      "source": [
        "nlp = spacy.blank('id')\n",
        "print(nlp) # Object"
      ],
      "execution_count": null,
      "outputs": [
        {
          "output_type": "stream",
          "name": "stdout",
          "text": [
            "<spacy.lang.id.Indonesian object at 0x7f94ff834190>\n"
          ]
        }
      ]
    },
    {
      "cell_type": "code",
      "metadata": {
        "id": "yH_lZXk4Xz5a"
      },
      "source": [
        "text = \"\"\" Fenomena pemanasan global ditandai dengan mencairnya es di kutub dan berbagai tempat atau daerah yang memiliki temperatur suhu yang cenderung naik di seluruh dunia.\n",
        "Munculnya fenomena pemanasan global ini tentu sulit untuk dihindari karena aktivitas manusia yang semakin tidak ramah lingkungan. Banyak aktivitas dan pola hidup manusia yang menyebabkan munculnya dampak pemanasan global.\n",
        "Perubahan iklim yang saat ini terus meningkatkan pemanasan global disebabkan oleh beberapa hal yang saat ini mudah kita temukan.\n",
        "\"\"\""
      ],
      "execution_count": null,
      "outputs": []
    },
    {
      "cell_type": "code",
      "metadata": {
        "colab": {
          "base_uri": "https://localhost:8080/"
        },
        "id": "sQS07gvsX7WI",
        "outputId": "16bee19d-0f62-40d6-dccf-5b6b901f1771"
      },
      "source": [
        "doc = nlp(text)\n",
        "doc"
      ],
      "execution_count": null,
      "outputs": [
        {
          "output_type": "execute_result",
          "data": {
            "text/plain": [
              " Fenomena pemanasan global ditandai dengan mencairnya es di kutub dan berbagai tempat atau daerah yang memiliki temperatur suhu yang cenderung naik di seluruh dunia.\n",
              "Munculnya fenomena pemanasan global ini tentu sulit untuk dihindari karena aktivitas manusia yang semakin tidak ramah lingkungan. Banyak aktivitas dan pola hidup manusia yang menyebabkan munculnya dampak pemanasan global.\n",
              "Perubahan iklim yang saat ini terus meningkatkan pemanasan global disebabkan oleh beberapa hal yang saat ini mudah kita temukan."
            ]
          },
          "metadata": {},
          "execution_count": 12
        }
      ]
    },
    {
      "cell_type": "code",
      "metadata": {
        "colab": {
          "base_uri": "https://localhost:8080/"
        },
        "id": "p-EuXdQjYPA1",
        "outputId": "52961848-dd99-45d4-9fc4-2492d0fb68dd"
      },
      "source": [
        "tokens = [token.text for token in doc]\n",
        "print(tokens)"
      ],
      "execution_count": null,
      "outputs": [
        {
          "output_type": "stream",
          "name": "stdout",
          "text": [
            "[' ', 'Fenomena', 'pemanasan', 'global', 'ditandai', 'dengan', 'mencairnya', 'es', 'di', 'kutub', 'dan', 'berbagai', 'tempat', 'atau', 'daerah', 'yang', 'memiliki', 'temperatur', 'suhu', 'yang', 'cenderung', 'naik', 'di', 'seluruh', 'dunia', '.', '\\n', 'Munculnya', 'fenomena', 'pemanasan', 'global', 'ini', 'tentu', 'sulit', 'untuk', 'dihindari', 'karena', 'aktivitas', 'manusia', 'yang', 'semakin', 'tidak', 'ramah', 'lingkungan', '.', 'Banyak', 'aktivitas', 'dan', 'pola', 'hidup', 'manusia', 'yang', 'menyebabkan', 'munculnya', 'dampak', 'pemanasan', 'global', '.', '\\n', 'Perubahan', 'iklim', 'yang', 'saat', 'ini', 'terus', 'meningkatkan', 'pemanasan', 'global', 'disebabkan', 'oleh', 'beberapa', 'hal', 'yang', 'saat', 'ini', 'mudah', 'kita', 'temukan', '.', '\\n']\n"
          ]
        }
      ]
    },
    {
      "cell_type": "code",
      "metadata": {
        "colab": {
          "base_uri": "https://localhost:8080/",
          "height": 35
        },
        "id": "dWVjAlD5YS48",
        "outputId": "4ef2f113-b538-4bfb-a0dd-4ac5de11dedc"
      },
      "source": [
        "punctuation = punctuation + '\\n'\n",
        "punctuation"
      ],
      "execution_count": null,
      "outputs": [
        {
          "output_type": "execute_result",
          "data": {
            "application/vnd.google.colaboratory.intrinsic+json": {
              "type": "string"
            },
            "text/plain": [
              "'!\"#$%&\\'()*+,-./:;<=>?@[\\\\]^_`{|}~\\n'"
            ]
          },
          "metadata": {},
          "execution_count": 14
        }
      ]
    },
    {
      "cell_type": "code",
      "metadata": {
        "colab": {
          "base_uri": "https://localhost:8080/"
        },
        "id": "Im7vRj0EYbRd",
        "outputId": "a39444c5-b3f9-442b-fc25-e1aa2c2bdf5b"
      },
      "source": [
        "# Membuat dictionary bag of word\n",
        "word_frequencies = {}\n",
        "\n",
        "# Mengisi word_frequencies tanpa stopword dan karakter khusus\n",
        "for word in doc:\n",
        "    if word.text.lower() not in stopwords:\n",
        "        if word.text.lower() not in punctuation:\n",
        "            if word.text not in word_frequencies.keys():\n",
        "                word_frequencies[word.text] = 1\n",
        "            else:\n",
        "                word_frequencies[word.text] += 1\n",
        "                \n",
        "print(word_frequencies)"
      ],
      "execution_count": null,
      "outputs": [
        {
          "output_type": "stream",
          "name": "stdout",
          "text": [
            "{' ': 1, 'Fenomena': 1, 'pemanasan': 4, 'global': 4, 'ditandai': 1, 'dengan': 1, 'mencairnya': 1, 'es': 1, 'di': 2, 'kutub': 1, 'dan': 2, 'berbagai': 1, 'tempat': 1, 'atau': 1, 'daerah': 1, 'yang': 6, 'memiliki': 1, 'temperatur': 1, 'suhu': 1, 'cenderung': 1, 'naik': 1, 'seluruh': 1, 'dunia': 1, 'Munculnya': 1, 'fenomena': 1, 'ini': 3, 'tentu': 1, 'sulit': 1, 'untuk': 1, 'dihindari': 1, 'karena': 1, 'aktivitas': 2, 'manusia': 2, 'semakin': 1, 'tidak': 1, 'ramah': 1, 'lingkungan': 1, 'Banyak': 1, 'pola': 1, 'hidup': 1, 'menyebabkan': 1, 'munculnya': 1, 'dampak': 1, 'Perubahan': 1, 'iklim': 1, 'saat': 2, 'terus': 1, 'meningkatkan': 1, 'disebabkan': 1, 'oleh': 1, 'beberapa': 1, 'hal': 1, 'mudah': 1, 'kita': 1, 'temukan': 1}\n"
          ]
        }
      ]
    },
    {
      "cell_type": "code",
      "metadata": {
        "colab": {
          "base_uri": "https://localhost:8080/"
        },
        "id": "BgYbHYxcZJkv",
        "outputId": "da874106-14a7-4dfc-e013-576d6a3d256b"
      },
      "source": [
        "# Menyimpan nilai frekuensi maksimal dari token yang sudah dibuat\n",
        "max_frequency = max(word_frequencies.values())\n",
        "max_frequency"
      ],
      "execution_count": null,
      "outputs": [
        {
          "output_type": "execute_result",
          "data": {
            "text/plain": [
              "6"
            ]
          },
          "metadata": {},
          "execution_count": 20
        }
      ]
    },
    {
      "cell_type": "code",
      "metadata": {
        "colab": {
          "base_uri": "https://localhost:8080/"
        },
        "id": "AWMdft3JZQzz",
        "outputId": "9c79b22a-9f4c-4993-953f-0f668e7af3ab"
      },
      "source": [
        "# Menghitung skor dengan membagi tiap frequency dengan nilai max frequency\n",
        "for word in word_frequencies.keys():\n",
        "    word_frequencies[word] = word_frequencies[word]/max_frequency\n",
        "\n",
        "print(word_frequencies)"
      ],
      "execution_count": null,
      "outputs": [
        {
          "output_type": "stream",
          "name": "stdout",
          "text": [
            "{' ': 0.16666666666666666, 'Fenomena': 0.16666666666666666, 'pemanasan': 0.6666666666666666, 'global': 0.6666666666666666, 'ditandai': 0.16666666666666666, 'dengan': 0.16666666666666666, 'mencairnya': 0.16666666666666666, 'es': 0.16666666666666666, 'di': 0.3333333333333333, 'kutub': 0.16666666666666666, 'dan': 0.3333333333333333, 'berbagai': 0.16666666666666666, 'tempat': 0.16666666666666666, 'atau': 0.16666666666666666, 'daerah': 0.16666666666666666, 'yang': 1.0, 'memiliki': 0.16666666666666666, 'temperatur': 0.16666666666666666, 'suhu': 0.16666666666666666, 'cenderung': 0.16666666666666666, 'naik': 0.16666666666666666, 'seluruh': 0.16666666666666666, 'dunia': 0.16666666666666666, 'Munculnya': 0.16666666666666666, 'fenomena': 0.16666666666666666, 'ini': 0.5, 'tentu': 0.16666666666666666, 'sulit': 0.16666666666666666, 'untuk': 0.16666666666666666, 'dihindari': 0.16666666666666666, 'karena': 0.16666666666666666, 'aktivitas': 0.3333333333333333, 'manusia': 0.3333333333333333, 'semakin': 0.16666666666666666, 'tidak': 0.16666666666666666, 'ramah': 0.16666666666666666, 'lingkungan': 0.16666666666666666, 'Banyak': 0.16666666666666666, 'pola': 0.16666666666666666, 'hidup': 0.16666666666666666, 'menyebabkan': 0.16666666666666666, 'munculnya': 0.16666666666666666, 'dampak': 0.16666666666666666, 'Perubahan': 0.16666666666666666, 'iklim': 0.16666666666666666, 'saat': 0.3333333333333333, 'terus': 0.16666666666666666, 'meningkatkan': 0.16666666666666666, 'disebabkan': 0.16666666666666666, 'oleh': 0.16666666666666666, 'beberapa': 0.16666666666666666, 'hal': 0.16666666666666666, 'mudah': 0.16666666666666666, 'kita': 0.16666666666666666, 'temukan': 0.16666666666666666}\n"
          ]
        }
      ]
    },
    {
      "cell_type": "code",
      "metadata": {
        "colab": {
          "base_uri": "https://localhost:8080/"
        },
        "id": "JCiveFJkZST3",
        "outputId": "14f2fc21-933b-4a08-d95b-b093db525cab"
      },
      "source": [
        "sentence_tokens = [sent for sent in text.split('.')]\n",
        "print(sentence_tokens)"
      ],
      "execution_count": null,
      "outputs": [
        {
          "output_type": "stream",
          "name": "stdout",
          "text": [
            "[' Fenomena pemanasan global ditandai dengan mencairnya es di kutub dan berbagai tempat atau daerah yang memiliki temperatur suhu yang cenderung naik di seluruh dunia', '\\nMunculnya fenomena pemanasan global ini tentu sulit untuk dihindari karena aktivitas manusia yang semakin tidak ramah lingkungan', ' Banyak aktivitas dan pola hidup manusia yang menyebabkan munculnya dampak pemanasan global', '\\nPerubahan iklim yang saat ini terus meningkatkan pemanasan global disebabkan oleh beberapa hal yang saat ini mudah kita temukan', '\\n']\n"
          ]
        }
      ]
    },
    {
      "cell_type": "code",
      "metadata": {
        "colab": {
          "base_uri": "https://localhost:8080/"
        },
        "id": "uOCWM4YPZjnt",
        "outputId": "d129c43a-9914-4be2-c417-41b29ca94a09"
      },
      "source": [
        "sentence_scores = {}\n",
        "for sent in sentence_tokens:\n",
        "    for word in sent:\n",
        "        if word.lower() in word_frequencies.keys():\n",
        "            if sent not in sentence_scores.keys():\n",
        "                sentence_scores[sent] = word_frequencies[word.lower()]\n",
        "            else:\n",
        "                sentence_scores[sent] += word_frequencies[word.lower()]\n",
        "                \n",
        "sentence_scores"
      ],
      "execution_count": null,
      "outputs": [
        {
          "output_type": "execute_result",
          "data": {
            "text/plain": [
              "{'\\nMunculnya fenomena pemanasan global ini tentu sulit untuk dihindari karena aktivitas manusia yang semakin tidak ramah lingkungan': 2.666666666666666,\n",
              " '\\nPerubahan iklim yang saat ini terus meningkatkan pemanasan global disebabkan oleh beberapa hal yang saat ini mudah kita temukan': 2.999999999999999,\n",
              " ' Banyak aktivitas dan pola hidup manusia yang menyebabkan munculnya dampak pemanasan global': 2.0,\n",
              " ' Fenomena pemanasan global ditandai dengan mencairnya es di kutub dan berbagai tempat atau daerah yang memiliki temperatur suhu yang cenderung naik di seluruh dunia': 3.9999999999999982}"
            ]
          },
          "metadata": {},
          "execution_count": 25
        }
      ]
    },
    {
      "cell_type": "code",
      "metadata": {
        "id": "3BB_OxBGZqFa"
      },
      "source": [
        "from heapq import nlargest"
      ],
      "execution_count": null,
      "outputs": []
    },
    {
      "cell_type": "code",
      "metadata": {
        "colab": {
          "base_uri": "https://localhost:8080/"
        },
        "id": "npbwvtKaZrsK",
        "outputId": "168772af-4853-4e96-829c-39c1272d7564"
      },
      "source": [
        "summarization_percentage = 0.3\n",
        "select_length = int(len(sentence_tokens) * summarization_percentage)\n",
        "select_length"
      ],
      "execution_count": null,
      "outputs": [
        {
          "output_type": "execute_result",
          "data": {
            "text/plain": [
              "1"
            ]
          },
          "metadata": {},
          "execution_count": 27
        }
      ]
    },
    {
      "cell_type": "code",
      "metadata": {
        "id": "At09pVWKZu4k"
      },
      "source": [
        "summary = nlargest(select_length, sentence_scores, key = sentence_scores.get) "
      ],
      "execution_count": null,
      "outputs": []
    },
    {
      "cell_type": "code",
      "metadata": {
        "colab": {
          "base_uri": "https://localhost:8080/"
        },
        "id": "eIQb0PwsZzpZ",
        "outputId": "afbc53a0-7a56-412a-d038-b2c67f71a943"
      },
      "source": [
        "summary"
      ],
      "execution_count": null,
      "outputs": [
        {
          "output_type": "execute_result",
          "data": {
            "text/plain": [
              "[' Fenomena pemanasan global ditandai dengan mencairnya es di kutub dan berbagai tempat atau daerah yang memiliki temperatur suhu yang cenderung naik di seluruh dunia']"
            ]
          },
          "metadata": {},
          "execution_count": 29
        }
      ]
    },
    {
      "cell_type": "code",
      "metadata": {
        "colab": {
          "base_uri": "https://localhost:8080/"
        },
        "id": "duast02BZ1m_",
        "outputId": "ecd3aa88-08ef-4b5e-b21c-0bd4cf20aed4"
      },
      "source": [
        "print(f\"Jumlah kata sebelum dirangkum: {len(text)}\")\n",
        "print(f\"Jumlah kata setelah dirangkum: {len(summary)}\")"
      ],
      "execution_count": null,
      "outputs": [
        {
          "output_type": "stream",
          "name": "stdout",
          "text": [
            "Jumlah kata sebelum dirangkum: 517\n",
            "Jumlah kata setelah dirangkum: 1\n"
          ]
        }
      ]
    },
    {
      "cell_type": "code",
      "metadata": {
        "id": "RORWuPveaL6J"
      },
      "source": [
        ""
      ],
      "execution_count": null,
      "outputs": []
    },
    {
      "cell_type": "markdown",
      "metadata": {
        "id": "AOnHVN65aMa5"
      },
      "source": [
        "MMR"
      ]
    },
    {
      "cell_type": "code",
      "metadata": {
        "id": "P9oRLkkxaVBB",
        "colab": {
          "base_uri": "https://localhost:8080/"
        },
        "outputId": "6bc61f48-79ab-435f-8e9d-fb010869bb09"
      },
      "source": [
        "!pip install newspaper3k\n",
        "from newspaper import Article"
      ],
      "execution_count": null,
      "outputs": [
        {
          "output_type": "stream",
          "name": "stdout",
          "text": [
            "Collecting newspaper3k\n",
            "  Downloading newspaper3k-0.2.8-py3-none-any.whl (211 kB)\n",
            "\u001b[?25l\r\u001b[K     |█▌                              | 10 kB 23.4 MB/s eta 0:00:01\r\u001b[K     |███                             | 20 kB 26.1 MB/s eta 0:00:01\r\u001b[K     |████▋                           | 30 kB 17.8 MB/s eta 0:00:01\r\u001b[K     |██████▏                         | 40 kB 15.0 MB/s eta 0:00:01\r\u001b[K     |███████▊                        | 51 kB 6.5 MB/s eta 0:00:01\r\u001b[K     |█████████▎                      | 61 kB 7.0 MB/s eta 0:00:01\r\u001b[K     |██████████▉                     | 71 kB 7.4 MB/s eta 0:00:01\r\u001b[K     |████████████▍                   | 81 kB 8.3 MB/s eta 0:00:01\r\u001b[K     |██████████████                  | 92 kB 8.2 MB/s eta 0:00:01\r\u001b[K     |███████████████▌                | 102 kB 6.4 MB/s eta 0:00:01\r\u001b[K     |█████████████████               | 112 kB 6.4 MB/s eta 0:00:01\r\u001b[K     |██████████████████▋             | 122 kB 6.4 MB/s eta 0:00:01\r\u001b[K     |████████████████████▏           | 133 kB 6.4 MB/s eta 0:00:01\r\u001b[K     |█████████████████████▊          | 143 kB 6.4 MB/s eta 0:00:01\r\u001b[K     |███████████████████████▎        | 153 kB 6.4 MB/s eta 0:00:01\r\u001b[K     |████████████████████████▉       | 163 kB 6.4 MB/s eta 0:00:01\r\u001b[K     |██████████████████████████▍     | 174 kB 6.4 MB/s eta 0:00:01\r\u001b[K     |████████████████████████████    | 184 kB 6.4 MB/s eta 0:00:01\r\u001b[K     |█████████████████████████████▌  | 194 kB 6.4 MB/s eta 0:00:01\r\u001b[K     |███████████████████████████████ | 204 kB 6.4 MB/s eta 0:00:01\r\u001b[K     |████████████████████████████████| 211 kB 6.4 MB/s \n",
            "\u001b[?25hRequirement already satisfied: beautifulsoup4>=4.4.1 in /usr/local/lib/python3.7/dist-packages (from newspaper3k) (4.6.3)\n",
            "Requirement already satisfied: lxml>=3.6.0 in /usr/local/lib/python3.7/dist-packages (from newspaper3k) (4.2.6)\n",
            "Collecting feedfinder2>=0.0.4\n",
            "  Downloading feedfinder2-0.0.4.tar.gz (3.3 kB)\n",
            "Requirement already satisfied: Pillow>=3.3.0 in /usr/local/lib/python3.7/dist-packages (from newspaper3k) (7.1.2)\n",
            "Requirement already satisfied: python-dateutil>=2.5.3 in /usr/local/lib/python3.7/dist-packages (from newspaper3k) (2.8.2)\n",
            "Collecting tldextract>=2.0.1\n",
            "  Downloading tldextract-3.1.2-py2.py3-none-any.whl (87 kB)\n",
            "\u001b[K     |████████████████████████████████| 87 kB 6.5 MB/s \n",
            "\u001b[?25hCollecting jieba3k>=0.35.1\n",
            "  Downloading jieba3k-0.35.1.zip (7.4 MB)\n",
            "\u001b[K     |████████████████████████████████| 7.4 MB 22.7 MB/s \n",
            "\u001b[?25hCollecting feedparser>=5.2.1\n",
            "  Downloading feedparser-6.0.8-py3-none-any.whl (81 kB)\n",
            "\u001b[K     |████████████████████████████████| 81 kB 10.3 MB/s \n",
            "\u001b[?25hRequirement already satisfied: requests>=2.10.0 in /usr/local/lib/python3.7/dist-packages (from newspaper3k) (2.23.0)\n",
            "Requirement already satisfied: PyYAML>=3.11 in /usr/local/lib/python3.7/dist-packages (from newspaper3k) (3.13)\n",
            "Collecting tinysegmenter==0.3\n",
            "  Downloading tinysegmenter-0.3.tar.gz (16 kB)\n",
            "Requirement already satisfied: nltk>=3.2.1 in /usr/local/lib/python3.7/dist-packages (from newspaper3k) (3.2.5)\n",
            "Collecting cssselect>=0.9.2\n",
            "  Downloading cssselect-1.1.0-py2.py3-none-any.whl (16 kB)\n",
            "Requirement already satisfied: six in /usr/local/lib/python3.7/dist-packages (from feedfinder2>=0.0.4->newspaper3k) (1.15.0)\n",
            "Collecting sgmllib3k\n",
            "  Downloading sgmllib3k-1.0.0.tar.gz (5.8 kB)\n",
            "Requirement already satisfied: certifi>=2017.4.17 in /usr/local/lib/python3.7/dist-packages (from requests>=2.10.0->newspaper3k) (2021.5.30)\n",
            "Requirement already satisfied: idna<3,>=2.5 in /usr/local/lib/python3.7/dist-packages (from requests>=2.10.0->newspaper3k) (2.10)\n",
            "Requirement already satisfied: urllib3!=1.25.0,!=1.25.1,<1.26,>=1.21.1 in /usr/local/lib/python3.7/dist-packages (from requests>=2.10.0->newspaper3k) (1.24.3)\n",
            "Requirement already satisfied: chardet<4,>=3.0.2 in /usr/local/lib/python3.7/dist-packages (from requests>=2.10.0->newspaper3k) (3.0.4)\n",
            "Requirement already satisfied: filelock>=3.0.8 in /usr/local/lib/python3.7/dist-packages (from tldextract>=2.0.1->newspaper3k) (3.3.0)\n",
            "Collecting requests-file>=1.4\n",
            "  Downloading requests_file-1.5.1-py2.py3-none-any.whl (3.7 kB)\n",
            "Building wheels for collected packages: tinysegmenter, feedfinder2, jieba3k, sgmllib3k\n",
            "  Building wheel for tinysegmenter (setup.py) ... \u001b[?25l\u001b[?25hdone\n",
            "  Created wheel for tinysegmenter: filename=tinysegmenter-0.3-py3-none-any.whl size=13552 sha256=a6f9d9bc43377b6ad80335b452e1e3c9a0d84f30e7fea121af5e6d41c9879102\n",
            "  Stored in directory: /root/.cache/pip/wheels/df/67/41/faca10fa501ca010be41b49d40360c2959e1c4f09bcbfa37fa\n",
            "  Building wheel for feedfinder2 (setup.py) ... \u001b[?25l\u001b[?25hdone\n",
            "  Created wheel for feedfinder2: filename=feedfinder2-0.0.4-py3-none-any.whl size=3356 sha256=e010a3080722612f13e8a0c2c7d3ed5031948b2e582cc7adc070601097fc10a6\n",
            "  Stored in directory: /root/.cache/pip/wheels/7f/d4/8f/6e2ca54744c9d7292d88ddb8d42876bcdab5e6d84a21c10346\n",
            "  Building wheel for jieba3k (setup.py) ... \u001b[?25l\u001b[?25hdone\n",
            "  Created wheel for jieba3k: filename=jieba3k-0.35.1-py3-none-any.whl size=7398405 sha256=acbe24a24add2a2ca9e5c0294b6cdd0386dfd8c8dc2f2a5a0cc18735e882a61e\n",
            "  Stored in directory: /root/.cache/pip/wheels/4c/91/46/3c208287b726df325a5979574324878b679116e4baae1af3c3\n",
            "  Building wheel for sgmllib3k (setup.py) ... \u001b[?25l\u001b[?25hdone\n",
            "  Created wheel for sgmllib3k: filename=sgmllib3k-1.0.0-py3-none-any.whl size=6065 sha256=513adfcbacddc7d7957fb3d159acbef0a7c72be55405059ae1680e986d085d93\n",
            "  Stored in directory: /root/.cache/pip/wheels/73/ad/a4/0dff4a6ef231fc0dfa12ffbac2a36cebfdddfe059f50e019aa\n",
            "Successfully built tinysegmenter feedfinder2 jieba3k sgmllib3k\n",
            "Installing collected packages: sgmllib3k, requests-file, tldextract, tinysegmenter, jieba3k, feedparser, feedfinder2, cssselect, newspaper3k\n",
            "Successfully installed cssselect-1.1.0 feedfinder2-0.0.4 feedparser-6.0.8 jieba3k-0.35.1 newspaper3k-0.2.8 requests-file-1.5.1 sgmllib3k-1.0.0 tinysegmenter-0.3 tldextract-3.1.2\n"
          ]
        }
      ]
    },
    {
      "cell_type": "code",
      "metadata": {
        "id": "sbTyI-isua_-"
      },
      "source": [
        "import spacy\n",
        "from spacy.lang.en.stop_words import STOP_WORDS\n",
        "from string import punctuation\n",
        "import spacy\n",
        "# from spacy.lang.en.stop_words import STOP_WORDS\n",
        "from string import punctuation\n",
        "\n",
        "import re   # reguler ekspresi\n",
        "# import sys  # untuk argv (tapi untuk Linux dan lokal)\n",
        "import requests # untuk reques data dari repo github misalnya\n",
        "from sklearn.feature_extraction.text import CountVectorizer # Vector \n",
        "from sklearn.metrics.pairwise import cosine_similarity # cosine similarity\n",
        "\n",
        "import operator # operator artimatika dll"
      ],
      "execution_count": null,
      "outputs": []
    },
    {
      "cell_type": "code",
      "metadata": {
        "colab": {
          "base_uri": "https://localhost:8080/"
        },
        "id": "te1rOdqFudu1",
        "outputId": "bdc6ba3f-f565-408b-f241-7792825beddd"
      },
      "source": [
        "stopwords = list(STOP_WORDS)\n",
        "print(stopwords)"
      ],
      "execution_count": null,
      "outputs": [
        {
          "output_type": "stream",
          "name": "stdout",
          "text": [
            "['forty', 'keep', 'did', 'hundred', 'behind', 'other', 'an', 'hereafter', 'anywhere', 'made', 'thereby', 'us', 'very', 'what', 'itself', 'hence', 'wherever', 'throughout', 'used', 'ca', 'empty', 'during', 'be', 'nothing', 'something', 'ever', 'in', 'hereby', 'enough', 'two', 'n’t', 'this', 'because', 'same', 'them', 'using', 'already', 'above', 'been', 'here', 'seems', 'any', 'serious', 'herein', 'that', 'whereafter', 'now', 'sometimes', 'are', 'even', 'you', 'your', 'sixty', 'therein', 'whether', 'at', 'before', 'hereupon', 'or', 'never', 'they', 'its', 'over', 'nobody', 'nor', \"n't\", 'beside', 'each', 'except', 'becomes', 'yourselves', 'would', 'someone', 'may', 'nevertheless', 'across', \"'ll\", 'n‘t', 'thence', 'often', 'whoever', 'however', 'unless', 'first', 'i', 'least', 'therefore', 'all', 'amongst', 'will', 'under', 'some', 'and', 'moreover', 'really', 'within', '‘m', 'move', 'yourself', 'hers', 'how', 'go', 'together', 'none', 'where', 'see', 'say', 'not', 'through', 'since', 'along', 'amount', 'we', 'has', 'why', '‘ve', 'elsewhere', 'whereas', 'he', 'part', 'latter', 'with', 'their', \"'m\", 'fifteen', 'whereby', 'do', '‘re', 'namely', 'mostly', 'of', 'three', 'due', 'so', 'whose', 'himself', 'from', 'almost', 'to', 'twenty', 'another', 'call', 'quite', 'which', 'besides', 'these', 'also', 'though', 'somehow', 'towards', 'onto', 'both', 'take', 'done', 'much', 'yours', 'four', 'beforehand', 'cannot', 'can', 'by', 'there', 'most', 'either', '’ve', 'noone', 'off', 'down', 'one', 'it', 'the', 'third', 'anyway', 'few', 'still', 'thereafter', 'mine', 'last', \"'re\", 'everywhere', 'his', 'being', 'she', 'although', 'further', 'toward', 'ten', 'every', 'anything', 'when', 'neither', 'otherwise', 'whom', 'next', 'becoming', 'nowhere', 'alone', 'who', 'more', 'does', '’m', 'many', 'only', 'nine', 'show', 'give', 'well', 'just', '‘ll', 'seem', 'sometime', 'themselves', 'up', 'various', 'him', 'no', '‘s', 'was', 'back', 'on', 'between', 'me', 'after', 'please', 'once', 'too', 'herself', '’s', '’ll', 'had', 'into', 'out', 'whole', 'anyone', 'twelve', 'whence', 'until', 'have', 'should', 'latterly', 'top', 'regarding', 'thereupon', 'perhaps', 'as', 'six', 'own', 'wherein', 'via', 'side', 'bottom', 'than', 'without', 'several', 're', 'seeming', '’d', 'put', 'front', 'became', 'less', 'whatever', 'thus', 'is', 'anyhow', 'others', 'might', 'must', 'such', 'make', 'whither', 'five', 'were', \"'ve\", 'but', 'eleven', 'am', 'yet', \"'s\", 'while', 'ourselves', 'indeed', 'for', 'always', 'beyond', 'whenever', 'fifty', 'her', 'seemed', 'else', 'myself', 'everything', 'below', 'my', 'name', 'rather', 'thru', 'those', 'formerly', 'then', 'could', 'if', 'about', 'doing', 'per', '’re', 'meanwhile', 'somewhere', 'among', 'get', 'again', 'full', 'ours', 'whereupon', \"'d\", 'eight', 'around', 'a', 'former', 'afterwards', '‘d', 'become', 'upon', 'against', 'everyone', 'our']\n"
          ]
        }
      ]
    },
    {
      "cell_type": "code",
      "metadata": {
        "colab": {
          "base_uri": "https://localhost:8080/"
        },
        "id": "jIj5CXphuj8l",
        "outputId": "5bd2beb6-5d5f-4e36-c614-4f80c9d9fcbe"
      },
      "source": [
        "# Mengambil komponen - komponen pada Spacy seperti:\n",
        "# tok2vec, tagger, parser, senter, ner, attribute_ruler, lemmatizer.\n",
        "nlp = spacy.load('en_core_web_sm')\n",
        "print(nlp) # Object"
      ],
      "execution_count": null,
      "outputs": [
        {
          "output_type": "stream",
          "name": "stdout",
          "text": [
            "<spacy.lang.en.English object at 0x7f5e46bd9e50>\n"
          ]
        }
      ]
    },
    {
      "cell_type": "code",
      "metadata": {
        "colab": {
          "base_uri": "https://localhost:8080/"
        },
        "id": "wsGiElW6uoTH",
        "outputId": "5933b0fd-0f43-479b-a85f-c6aaeb80120c"
      },
      "source": [
        "import nltk\n",
        "nltk.download('punkt', quiet=True)\n",
        "from nltk.corpus import stopwords\n",
        "nltk.download('stopwords')\n",
        "stopwords = stopwords.words('english')"
      ],
      "execution_count": null,
      "outputs": [
        {
          "output_type": "stream",
          "name": "stdout",
          "text": [
            "[nltk_data] Downloading package stopwords to /root/nltk_data...\n",
            "[nltk_data]   Unzipping corpora/stopwords.zip.\n"
          ]
        }
      ]
    },
    {
      "cell_type": "code",
      "metadata": {
        "id": "I-DBAjRtuuNG"
      },
      "source": [
        "article = Article('https://www.newscientist.com/question/net-zero-emissions/')\n",
        "article.download()\n",
        "article.parse()\n",
        "article.nlp()\n",
        "corpus = article.text"
      ],
      "execution_count": null,
      "outputs": []
    },
    {
      "cell_type": "code",
      "metadata": {
        "colab": {
          "base_uri": "https://localhost:8080/"
        },
        "id": "E66MMbLPu4SE",
        "outputId": "9ca0c9e3-e2f6-4d4f-c602-f983d95cd2b0"
      },
      "source": [
        "doc = nlp(corpus)\n",
        "print(doc)"
      ],
      "execution_count": null,
      "outputs": [
        {
          "output_type": "stream",
          "name": "stdout",
          "text": [
            "The concept of net zero greenhouse gas emissions was first popularised by the Paris Agreement, a landmark deal that was agreed at the United Nations Climate Change Conference (COP21) to limit the impact of greenhouse gas emissions. At the watershed meeting, nearly 200 countries agreed “to achieve a balance between anthropogenic emissions by sources by sinks of greenhouse gases in the second half of this century.” In other words, hit net zero emissions by around mid-century.\n",
            "\n",
            "In 2018 the timeline and need for the goal was spelt out more clearly, by the Intergovernmental Panel on Climate Change’s report on stopping 1.5°C of warming. The UN climate science panel said that global carbon dioxide emissions must fall by about 45 per cent by 2030, and to net zero by 2050, for the world to have a chance of avoiding the devastating consequences of breaching the 1.5°C threshold.\n",
            "\n",
            "That report helped spur countries including Sweden to set a goal of net zero emissions by 2050, followed by the UK in 2019, the first major economy to do so. In 2020, China, the world’s biggest emitter, pledged it would reach “carbon neutrality” by 2060. Businesses, and sub-national actors such as states and regions, have also set similar targets.\n",
            "\n",
            "Why net rather than just zero? Even if we decarbonise our electricity grids entirely, make green hydrogen production affordable and dramatically scale up carbon capture and storage, there will still be a rump of emissions left by 2050. Most of those will come from hard- or impossible-to-abate sectors including farming, aviation, some heavy industry and waste.\n",
            "\n",
            "Advertisement\n",
            "\n",
            "That is where greenhouse gas removals come in. Tree-planting, restoring peatlands, and technologies such as direct air capture of CO2 can tip the carbon accounting scales to cancel out the remaining rump, leaving a country or business at net zero.\n",
            "\n",
            "There are a few technical but important questions around the best ways to achieve net zero. One is over whether “carbon credits” from other countries should be allowed to count towards a country’s progress. The UK government’s advisers, the Climate Change Committee (CCC), argues they should not, because of the expense but also because all countries will eventually need to reach net zero, so that option will vanish.\n",
            "\n",
            "Another is over whether net zero should cover just carbon emissions or all greenhouse gas emissions, including others such as methane, which comes principally from farming and oil and gas production. The CCC says it is better to cover all greenhouse gas emissions.\n",
            "\n",
            "Some figures, such as former Bank of England governor Mark Carney, have stirred controversy by appearing to suggest alternative definitions of net zero. He claimed the asset manager where he works, Brookfield Asset Management Inc, was net zero because its investments in renewable energy “avoid emissions”, despite the firm holding major investments in coal, oil and gas. Carney later rowed back on the claim.\n",
            "\n",
            "There is concern in some quarters that companies and countries are “greenwashing” by announcing net zero targets but not putting sufficient action in place to meet them. The UK, for example, made its target law in June 2019 but as of March 2020 is still off-track to meet even its near-term targets for the mid-2020s, let alone long-term net zero by 2050.\n"
          ]
        }
      ]
    },
    {
      "cell_type": "code",
      "metadata": {
        "id": "-Wm1IXEiu8tR"
      },
      "source": [
        "def cleanData(sentence):\n",
        "\t#sentence = re.sub('[^A-Za-z0-9 ]+', '', sentence)\n",
        "\t#sentence filter(None, re.split(\"[.!?\", setence))\n",
        "\tret = []\n",
        "\tsentence = stemmer.stem(sentence)\t\n",
        "\tfor word in sentence.split():\n",
        "\t\tif not word in stopwords:\n",
        "\t\t\tret.append(word)\n",
        "\treturn \" \".join(ret)"
      ],
      "execution_count": null,
      "outputs": []
    },
    {
      "cell_type": "code",
      "metadata": {
        "id": "0TSpsaO1vCoy"
      },
      "source": [
        "# Fungsi untuk menghitung cosine similarity\n",
        "# konsep MMR menghiung jarak tiap kalimat kecuali ke dirina sebdiri\n",
        "def calculateSimilarity(sentence, doc):\n",
        "\t\n",
        "\tif doc == []:\n",
        "\t\treturn 0\n",
        "\t\n",
        "\tvocab = {}\n",
        "\t\n",
        "\tfor word in sentence: #Memasukkan kata-kata yg terdapat pada query (sentence) ke dalam vocabulary\n",
        "\t\tvocab[word] = 0\n",
        "\t#menatukan list ang sebelumna adalah string menatukan sebelah kanan\n",
        "\tdocInOneSentence = '';\n",
        "\tfor t in doc:\n",
        "\t\tdocInOneSentence += (t + ' ') #Menggambungkan seluruh kalimat pada list document menjadi satu string atau kalimat\n",
        "\t\tfor word in t.split(): #Memasukkan kata-kata yg terdapat pada tiap kalimat di document ke dalam vocabulary\n",
        "\t\t\tvocab[word]=0\t\n",
        "\t\n",
        "\tcv = CountVectorizer(vocabulary=vocab.keys()) #Kenapa Vocabularynya harus didefinisikan? Karena proses fitur ekstraksinya antara Document dan Query dipisah, agar menghasilkan dimensi vector yg sama maka kita harus mendefinisikan vocebularynya\n",
        "\n",
        "\tdocVector = cv.fit_transform([docInOneSentence]) #Proses Fitur ekstraksi dokumen\n",
        "\tsentenceVector = cv.fit_transform([sentence]) #Proses fitur ekstraksi query\n",
        "\treturn cosine_similarity(docVector, sentenceVector).flatten() #Perhitungan cosine similarity dan kemudian merubahnya menjadi list 1D"
      ],
      "execution_count": null,
      "outputs": []
    },
    {
      "cell_type": "code",
      "metadata": {
        "id": "Ut7jovvevHe9"
      },
      "source": [
        "texts = doc.text.split('\\n')"
      ],
      "execution_count": null,
      "outputs": []
    },
    {
      "cell_type": "code",
      "metadata": {
        "colab": {
          "base_uri": "https://localhost:8080/"
        },
        "id": "ZrTVnlKdvKe1",
        "outputId": "1d0a9259-5d66-49f3-815b-92a85434d553"
      },
      "source": [
        "texts"
      ],
      "execution_count": null,
      "outputs": [
        {
          "output_type": "execute_result",
          "data": {
            "text/plain": [
              "['The concept of net zero greenhouse gas emissions was first popularised by the Paris Agreement, a landmark deal that was agreed at the United Nations Climate Change Conference (COP21) to limit the impact of greenhouse gas emissions. At the watershed meeting, nearly 200 countries agreed “to achieve a balance between anthropogenic emissions by sources by sinks of greenhouse gases in the second half of this century.” In other words, hit net zero emissions by around mid-century.',\n",
              " '',\n",
              " 'In 2018 the timeline and need for the goal was spelt out more clearly, by the Intergovernmental Panel on Climate Change’s report on stopping 1.5°C of warming. The UN climate science panel said that global carbon dioxide emissions must fall by about 45 per cent by 2030, and to net zero by 2050, for the world to have a chance of avoiding the devastating consequences of breaching the 1.5°C threshold.',\n",
              " '',\n",
              " 'That report helped spur countries including Sweden to set a goal of net zero emissions by 2050, followed by the UK in 2019, the first major economy to do so. In 2020, China, the world’s biggest emitter, pledged it would reach “carbon neutrality” by 2060. Businesses, and sub-national actors such as states and regions, have also set similar targets.',\n",
              " '',\n",
              " 'Why net rather than just zero? Even if we decarbonise our electricity grids entirely, make green hydrogen production affordable and dramatically scale up carbon capture and storage, there will still be a rump of emissions left by 2050. Most of those will come from hard- or impossible-to-abate sectors including farming, aviation, some heavy industry and waste.',\n",
              " '',\n",
              " 'Advertisement',\n",
              " '',\n",
              " 'That is where greenhouse gas removals come in. Tree-planting, restoring peatlands, and technologies such as direct air capture of CO2 can tip the carbon accounting scales to cancel out the remaining rump, leaving a country or business at net zero.',\n",
              " '',\n",
              " 'There are a few technical but important questions around the best ways to achieve net zero. One is over whether “carbon credits” from other countries should be allowed to count towards a country’s progress. The UK government’s advisers, the Climate Change Committee (CCC), argues they should not, because of the expense but also because all countries will eventually need to reach net zero, so that option will vanish.',\n",
              " '',\n",
              " 'Another is over whether net zero should cover just carbon emissions or all greenhouse gas emissions, including others such as methane, which comes principally from farming and oil and gas production. The CCC says it is better to cover all greenhouse gas emissions.',\n",
              " '',\n",
              " 'Some figures, such as former Bank of England governor Mark Carney, have stirred controversy by appearing to suggest alternative definitions of net zero. He claimed the asset manager where he works, Brookfield Asset Management Inc, was net zero because its investments in renewable energy “avoid emissions”, despite the firm holding major investments in coal, oil and gas. Carney later rowed back on the claim.',\n",
              " '',\n",
              " 'There is concern in some quarters that companies and countries are “greenwashing” by announcing net zero targets but not putting sufficient action in place to meet them. The UK, for example, made its target law in June 2019 but as of March 2020 is still off-track to meet even its near-term targets for the mid-2020s, let alone long-term net zero by 2050.']"
            ]
          },
          "metadata": {},
          "execution_count": 11
        }
      ]
    },
    {
      "cell_type": "code",
      "metadata": {
        "id": "OcbwEGYXvQGk"
      },
      "source": [
        "import time\n",
        "from nltk.stem.snowball import SnowballStemmer\n",
        "stemmer = SnowballStemmer(\"english\")\n",
        "\n",
        "# import time\n",
        "# start = time.time()\n",
        "\n",
        "\n",
        "sentences = []\n",
        "clean = []\n",
        "originalSentenceOf = {}\n",
        "\n",
        "#Data cleansing\n",
        "for line in texts:\n",
        "\tparts = line.split('.')\n",
        "\tfor part in parts:\n",
        "\t\tcl = cleanData(part)\n",
        "\t\t#print cl\n",
        "\t\tsentences.append(part)\n",
        "\t\tclean.append(cl)\n",
        "\t\toriginalSentenceOf[cl] = part\t\t\n",
        "\n",
        "setClean = set(clean)"
      ],
      "execution_count": null,
      "outputs": []
    },
    {
      "cell_type": "code",
      "metadata": {
        "colab": {
          "base_uri": "https://localhost:8080/"
        },
        "id": "fZZR6-YSvRW-",
        "outputId": "073cbde5-4b00-4663-e326-47d66f01c781"
      },
      "source": [
        "setClean"
      ],
      "execution_count": null,
      "outputs": [
        {
          "output_type": "execute_result",
          "data": {
            "text/plain": [
              "{'',\n",
              " \"2018 timeline need goal spelt clearly, intergovernmental panel climate change's report stopping 1\",\n",
              " \"2020, china, world's biggest emitter, pledged would reach “carbon neutrality” 2060\",\n",
              " '5°c threshold',\n",
              " '5°c warm',\n",
              " 'advertis',\n",
              " 'another whether net zero cover carbon emissions greenhouse gas emissions, including others methane, comes principally farming oil gas product',\n",
              " 'businesses, sub-national actors states regions, also set similar target',\n",
              " 'carney later rowed back claim',\n",
              " 'ccc says better cover greenhouse gas emiss',\n",
              " 'claimed asset manager works, brookfield asset management inc, net zero investments renewable energy “avoid emissions”, despite firm holding major investments coal, oil ga',\n",
              " 'come hard- impossible-to-abate sectors including farming, aviation, heavy industry wast',\n",
              " 'concept net zero greenhouse gas emissions first popularised paris agreement, landmark deal agreed united nations climate change conference (cop21) limit impact greenhouse gas emiss',\n",
              " 'concern quarters companies countries “greenwashing” announcing net zero targets putting sufficient action place meet',\n",
              " 'figures, former bank england governor mark carney, stirred controversy appearing suggest alternative definitions net zero',\n",
              " 'greenhouse gas removals come',\n",
              " 'net rather zero? even decarbonise electricity grids entirely, make green hydrogen production affordable dramatically scale carbon capture storage, still rump emissions left 2050',\n",
              " \"one whether “carbon credits” countries allowed count towards country's progress\",\n",
              " 'report helped spur countries including sweden set goal net zero emissions 2050, followed uk 2019, first major economy',\n",
              " 'technical important questions around best ways achieve net zero',\n",
              " 'tree-planting, restoring peatlands, technologies direct air capture co2 tip carbon accounting scales cancel remaining rump, leaving country business net zero',\n",
              " \"uk government's advisers, climate change committee (ccc), argues not, expense also countries eventually need reach net zero, option vanish\",\n",
              " 'uk, example, made target law june 2019 march 2020 still off-track meet even near-term targets mid-2020s, let alone long-term net zero 2050',\n",
              " 'un climate science panel said global carbon dioxide emissions must fall 45 per cent 2030, net zero 2050, world chance avoiding devastating consequences breaching 1',\n",
              " 'watershed meeting, nearly 200 countries agreed “to achieve balance anthropogenic emissions sources sinks greenhouse gases second half centuri',\n",
              " '” words, hit net zero emissions around mid-centuri'}"
            ]
          },
          "metadata": {},
          "execution_count": 13
        }
      ]
    },
    {
      "cell_type": "code",
      "metadata": {
        "colab": {
          "base_uri": "https://localhost:8080/"
        },
        "id": "J9CJ1BXbvYPg",
        "outputId": "75c12d68-3d24-4277-d39f-be90ffc2d5e0"
      },
      "source": [
        "#calculate Similarity score each sentence with whole documents\t\t\n",
        "scores = {}\n",
        "for data in clean:\n",
        "\ttemp_doc = setClean - set([data]) \n",
        "\tscore = calculateSimilarity(data, list(temp_doc))\n",
        "\tscores[data] = score\n",
        "\t#print score\n",
        "\tprint(scores)"
      ],
      "execution_count": null,
      "outputs": [
        {
          "output_type": "stream",
          "name": "stdout",
          "text": [
            "{'concept net zero greenhouse gas emissions first popularised paris agreement, landmark deal agreed united nations climate change conference (cop21) limit impact greenhouse gas emiss': array([0.50917508])}\n",
            "{'concept net zero greenhouse gas emissions first popularised paris agreement, landmark deal agreed united nations climate change conference (cop21) limit impact greenhouse gas emiss': array([0.50917508]), 'watershed meeting, nearly 200 countries agreed “to achieve balance anthropogenic emissions sources sinks greenhouse gases second half centuri': array([0.2937013])}\n",
            "{'concept net zero greenhouse gas emissions first popularised paris agreement, landmark deal agreed united nations climate change conference (cop21) limit impact greenhouse gas emiss': array([0.50917508]), 'watershed meeting, nearly 200 countries agreed “to achieve balance anthropogenic emissions sources sinks greenhouse gases second half centuri': array([0.2937013]), '” words, hit net zero emissions around mid-centuri': array([0.53099079])}\n",
            "{'concept net zero greenhouse gas emissions first popularised paris agreement, landmark deal agreed united nations climate change conference (cop21) limit impact greenhouse gas emiss': array([0.50917508]), 'watershed meeting, nearly 200 countries agreed “to achieve balance anthropogenic emissions sources sinks greenhouse gases second half centuri': array([0.2937013]), '” words, hit net zero emissions around mid-centuri': array([0.53099079]), '': array([0.])}\n",
            "{'concept net zero greenhouse gas emissions first popularised paris agreement, landmark deal agreed united nations climate change conference (cop21) limit impact greenhouse gas emiss': array([0.50917508]), 'watershed meeting, nearly 200 countries agreed “to achieve balance anthropogenic emissions sources sinks greenhouse gases second half centuri': array([0.2937013]), '” words, hit net zero emissions around mid-centuri': array([0.53099079]), '': array([0.])}\n",
            "{'concept net zero greenhouse gas emissions first popularised paris agreement, landmark deal agreed united nations climate change conference (cop21) limit impact greenhouse gas emiss': array([0.50917508]), 'watershed meeting, nearly 200 countries agreed “to achieve balance anthropogenic emissions sources sinks greenhouse gases second half centuri': array([0.2937013]), '” words, hit net zero emissions around mid-centuri': array([0.53099079]), '': array([0.]), \"2018 timeline need goal spelt clearly, intergovernmental panel climate change's report stopping 1\": array([0.12492772])}\n",
            "{'concept net zero greenhouse gas emissions first popularised paris agreement, landmark deal agreed united nations climate change conference (cop21) limit impact greenhouse gas emiss': array([0.50917508]), 'watershed meeting, nearly 200 countries agreed “to achieve balance anthropogenic emissions sources sinks greenhouse gases second half centuri': array([0.2937013]), '” words, hit net zero emissions around mid-centuri': array([0.53099079]), '': array([0.]), \"2018 timeline need goal spelt clearly, intergovernmental panel climate change's report stopping 1\": array([0.12492772]), '5°c warm': array([0.])}\n",
            "{'concept net zero greenhouse gas emissions first popularised paris agreement, landmark deal agreed united nations climate change conference (cop21) limit impact greenhouse gas emiss': array([0.50917508]), 'watershed meeting, nearly 200 countries agreed “to achieve balance anthropogenic emissions sources sinks greenhouse gases second half centuri': array([0.2937013]), '” words, hit net zero emissions around mid-centuri': array([0.53099079]), '': array([0.]), \"2018 timeline need goal spelt clearly, intergovernmental panel climate change's report stopping 1\": array([0.12492772]), '5°c warm': array([0.]), 'un climate science panel said global carbon dioxide emissions must fall 45 per cent 2030, net zero 2050, world chance avoiding devastating consequences breaching 1': array([0.59546516])}\n",
            "{'concept net zero greenhouse gas emissions first popularised paris agreement, landmark deal agreed united nations climate change conference (cop21) limit impact greenhouse gas emiss': array([0.50917508]), 'watershed meeting, nearly 200 countries agreed “to achieve balance anthropogenic emissions sources sinks greenhouse gases second half centuri': array([0.2937013]), '” words, hit net zero emissions around mid-centuri': array([0.53099079]), '': array([0.]), \"2018 timeline need goal spelt clearly, intergovernmental panel climate change's report stopping 1\": array([0.12492772]), '5°c warm': array([0.]), 'un climate science panel said global carbon dioxide emissions must fall 45 per cent 2030, net zero 2050, world chance avoiding devastating consequences breaching 1': array([0.59546516]), '5°c threshold': array([0.])}\n",
            "{'concept net zero greenhouse gas emissions first popularised paris agreement, landmark deal agreed united nations climate change conference (cop21) limit impact greenhouse gas emiss': array([0.50917508]), 'watershed meeting, nearly 200 countries agreed “to achieve balance anthropogenic emissions sources sinks greenhouse gases second half centuri': array([0.2937013]), '” words, hit net zero emissions around mid-centuri': array([0.53099079]), '': array([0.]), \"2018 timeline need goal spelt clearly, intergovernmental panel climate change's report stopping 1\": array([0.12492772]), '5°c warm': array([0.]), 'un climate science panel said global carbon dioxide emissions must fall 45 per cent 2030, net zero 2050, world chance avoiding devastating consequences breaching 1': array([0.59546516]), '5°c threshold': array([0.])}\n",
            "{'concept net zero greenhouse gas emissions first popularised paris agreement, landmark deal agreed united nations climate change conference (cop21) limit impact greenhouse gas emiss': array([0.50917508]), 'watershed meeting, nearly 200 countries agreed “to achieve balance anthropogenic emissions sources sinks greenhouse gases second half centuri': array([0.2937013]), '” words, hit net zero emissions around mid-centuri': array([0.53099079]), '': array([0.]), \"2018 timeline need goal spelt clearly, intergovernmental panel climate change's report stopping 1\": array([0.12492772]), '5°c warm': array([0.]), 'un climate science panel said global carbon dioxide emissions must fall 45 per cent 2030, net zero 2050, world chance avoiding devastating consequences breaching 1': array([0.59546516]), '5°c threshold': array([0.])}\n",
            "{'concept net zero greenhouse gas emissions first popularised paris agreement, landmark deal agreed united nations climate change conference (cop21) limit impact greenhouse gas emiss': array([0.50917508]), 'watershed meeting, nearly 200 countries agreed “to achieve balance anthropogenic emissions sources sinks greenhouse gases second half centuri': array([0.2937013]), '” words, hit net zero emissions around mid-centuri': array([0.53099079]), '': array([0.]), \"2018 timeline need goal spelt clearly, intergovernmental panel climate change's report stopping 1\": array([0.12492772]), '5°c warm': array([0.]), 'un climate science panel said global carbon dioxide emissions must fall 45 per cent 2030, net zero 2050, world chance avoiding devastating consequences breaching 1': array([0.59546516]), '5°c threshold': array([0.]), 'report helped spur countries including sweden set goal net zero emissions 2050, followed uk 2019, first major economy': array([0.48723066])}\n",
            "{'concept net zero greenhouse gas emissions first popularised paris agreement, landmark deal agreed united nations climate change conference (cop21) limit impact greenhouse gas emiss': array([0.50917508]), 'watershed meeting, nearly 200 countries agreed “to achieve balance anthropogenic emissions sources sinks greenhouse gases second half centuri': array([0.2937013]), '” words, hit net zero emissions around mid-centuri': array([0.53099079]), '': array([0.]), \"2018 timeline need goal spelt clearly, intergovernmental panel climate change's report stopping 1\": array([0.12492772]), '5°c warm': array([0.]), 'un climate science panel said global carbon dioxide emissions must fall 45 per cent 2030, net zero 2050, world chance avoiding devastating consequences breaching 1': array([0.59546516]), '5°c threshold': array([0.]), 'report helped spur countries including sweden set goal net zero emissions 2050, followed uk 2019, first major economy': array([0.48723066]), \"2020, china, world's biggest emitter, pledged would reach “carbon neutrality” 2060\": array([0.1356127])}\n",
            "{'concept net zero greenhouse gas emissions first popularised paris agreement, landmark deal agreed united nations climate change conference (cop21) limit impact greenhouse gas emiss': array([0.50917508]), 'watershed meeting, nearly 200 countries agreed “to achieve balance anthropogenic emissions sources sinks greenhouse gases second half centuri': array([0.2937013]), '” words, hit net zero emissions around mid-centuri': array([0.53099079]), '': array([0.]), \"2018 timeline need goal spelt clearly, intergovernmental panel climate change's report stopping 1\": array([0.12492772]), '5°c warm': array([0.]), 'un climate science panel said global carbon dioxide emissions must fall 45 per cent 2030, net zero 2050, world chance avoiding devastating consequences breaching 1': array([0.59546516]), '5°c threshold': array([0.]), 'report helped spur countries including sweden set goal net zero emissions 2050, followed uk 2019, first major economy': array([0.48723066]), \"2020, china, world's biggest emitter, pledged would reach “carbon neutrality” 2060\": array([0.1356127]), 'businesses, sub-national actors states regions, also set similar target': array([0.05832118])}\n",
            "{'concept net zero greenhouse gas emissions first popularised paris agreement, landmark deal agreed united nations climate change conference (cop21) limit impact greenhouse gas emiss': array([0.50917508]), 'watershed meeting, nearly 200 countries agreed “to achieve balance anthropogenic emissions sources sinks greenhouse gases second half centuri': array([0.2937013]), '” words, hit net zero emissions around mid-centuri': array([0.53099079]), '': array([0.]), \"2018 timeline need goal spelt clearly, intergovernmental panel climate change's report stopping 1\": array([0.12492772]), '5°c warm': array([0.]), 'un climate science panel said global carbon dioxide emissions must fall 45 per cent 2030, net zero 2050, world chance avoiding devastating consequences breaching 1': array([0.59546516]), '5°c threshold': array([0.]), 'report helped spur countries including sweden set goal net zero emissions 2050, followed uk 2019, first major economy': array([0.48723066]), \"2020, china, world's biggest emitter, pledged would reach “carbon neutrality” 2060\": array([0.1356127]), 'businesses, sub-national actors states regions, also set similar target': array([0.05832118])}\n",
            "{'concept net zero greenhouse gas emissions first popularised paris agreement, landmark deal agreed united nations climate change conference (cop21) limit impact greenhouse gas emiss': array([0.50917508]), 'watershed meeting, nearly 200 countries agreed “to achieve balance anthropogenic emissions sources sinks greenhouse gases second half centuri': array([0.2937013]), '” words, hit net zero emissions around mid-centuri': array([0.53099079]), '': array([0.]), \"2018 timeline need goal spelt clearly, intergovernmental panel climate change's report stopping 1\": array([0.12492772]), '5°c warm': array([0.]), 'un climate science panel said global carbon dioxide emissions must fall 45 per cent 2030, net zero 2050, world chance avoiding devastating consequences breaching 1': array([0.59546516]), '5°c threshold': array([0.]), 'report helped spur countries including sweden set goal net zero emissions 2050, followed uk 2019, first major economy': array([0.48723066]), \"2020, china, world's biggest emitter, pledged would reach “carbon neutrality” 2060\": array([0.1356127]), 'businesses, sub-national actors states regions, also set similar target': array([0.05832118])}\n",
            "{'concept net zero greenhouse gas emissions first popularised paris agreement, landmark deal agreed united nations climate change conference (cop21) limit impact greenhouse gas emiss': array([0.50917508]), 'watershed meeting, nearly 200 countries agreed “to achieve balance anthropogenic emissions sources sinks greenhouse gases second half centuri': array([0.2937013]), '” words, hit net zero emissions around mid-centuri': array([0.53099079]), '': array([0.]), \"2018 timeline need goal spelt clearly, intergovernmental panel climate change's report stopping 1\": array([0.12492772]), '5°c warm': array([0.]), 'un climate science panel said global carbon dioxide emissions must fall 45 per cent 2030, net zero 2050, world chance avoiding devastating consequences breaching 1': array([0.59546516]), '5°c threshold': array([0.]), 'report helped spur countries including sweden set goal net zero emissions 2050, followed uk 2019, first major economy': array([0.48723066]), \"2020, china, world's biggest emitter, pledged would reach “carbon neutrality” 2060\": array([0.1356127]), 'businesses, sub-national actors states regions, also set similar target': array([0.05832118]), 'net rather zero? even decarbonise electricity grids entirely, make green hydrogen production affordable dramatically scale carbon capture storage, still rump emissions left 2050': array([0.54295699])}\n",
            "{'concept net zero greenhouse gas emissions first popularised paris agreement, landmark deal agreed united nations climate change conference (cop21) limit impact greenhouse gas emiss': array([0.50917508]), 'watershed meeting, nearly 200 countries agreed “to achieve balance anthropogenic emissions sources sinks greenhouse gases second half centuri': array([0.2937013]), '” words, hit net zero emissions around mid-centuri': array([0.53099079]), '': array([0.]), \"2018 timeline need goal spelt clearly, intergovernmental panel climate change's report stopping 1\": array([0.12492772]), '5°c warm': array([0.]), 'un climate science panel said global carbon dioxide emissions must fall 45 per cent 2030, net zero 2050, world chance avoiding devastating consequences breaching 1': array([0.59546516]), '5°c threshold': array([0.]), 'report helped spur countries including sweden set goal net zero emissions 2050, followed uk 2019, first major economy': array([0.48723066]), \"2020, china, world's biggest emitter, pledged would reach “carbon neutrality” 2060\": array([0.1356127]), 'businesses, sub-national actors states regions, also set similar target': array([0.05832118]), 'net rather zero? even decarbonise electricity grids entirely, make green hydrogen production affordable dramatically scale carbon capture storage, still rump emissions left 2050': array([0.54295699]), 'come hard- impossible-to-abate sectors including farming, aviation, heavy industry wast': array([0.07789417])}\n",
            "{'concept net zero greenhouse gas emissions first popularised paris agreement, landmark deal agreed united nations climate change conference (cop21) limit impact greenhouse gas emiss': array([0.50917508]), 'watershed meeting, nearly 200 countries agreed “to achieve balance anthropogenic emissions sources sinks greenhouse gases second half centuri': array([0.2937013]), '” words, hit net zero emissions around mid-centuri': array([0.53099079]), '': array([0.]), \"2018 timeline need goal spelt clearly, intergovernmental panel climate change's report stopping 1\": array([0.12492772]), '5°c warm': array([0.]), 'un climate science panel said global carbon dioxide emissions must fall 45 per cent 2030, net zero 2050, world chance avoiding devastating consequences breaching 1': array([0.59546516]), '5°c threshold': array([0.]), 'report helped spur countries including sweden set goal net zero emissions 2050, followed uk 2019, first major economy': array([0.48723066]), \"2020, china, world's biggest emitter, pledged would reach “carbon neutrality” 2060\": array([0.1356127]), 'businesses, sub-national actors states regions, also set similar target': array([0.05832118]), 'net rather zero? even decarbonise electricity grids entirely, make green hydrogen production affordable dramatically scale carbon capture storage, still rump emissions left 2050': array([0.54295699]), 'come hard- impossible-to-abate sectors including farming, aviation, heavy industry wast': array([0.07789417])}\n",
            "{'concept net zero greenhouse gas emissions first popularised paris agreement, landmark deal agreed united nations climate change conference (cop21) limit impact greenhouse gas emiss': array([0.50917508]), 'watershed meeting, nearly 200 countries agreed “to achieve balance anthropogenic emissions sources sinks greenhouse gases second half centuri': array([0.2937013]), '” words, hit net zero emissions around mid-centuri': array([0.53099079]), '': array([0.]), \"2018 timeline need goal spelt clearly, intergovernmental panel climate change's report stopping 1\": array([0.12492772]), '5°c warm': array([0.]), 'un climate science panel said global carbon dioxide emissions must fall 45 per cent 2030, net zero 2050, world chance avoiding devastating consequences breaching 1': array([0.59546516]), '5°c threshold': array([0.]), 'report helped spur countries including sweden set goal net zero emissions 2050, followed uk 2019, first major economy': array([0.48723066]), \"2020, china, world's biggest emitter, pledged would reach “carbon neutrality” 2060\": array([0.1356127]), 'businesses, sub-national actors states regions, also set similar target': array([0.05832118]), 'net rather zero? even decarbonise electricity grids entirely, make green hydrogen production affordable dramatically scale carbon capture storage, still rump emissions left 2050': array([0.54295699]), 'come hard- impossible-to-abate sectors including farming, aviation, heavy industry wast': array([0.07789417])}\n",
            "{'concept net zero greenhouse gas emissions first popularised paris agreement, landmark deal agreed united nations climate change conference (cop21) limit impact greenhouse gas emiss': array([0.50917508]), 'watershed meeting, nearly 200 countries agreed “to achieve balance anthropogenic emissions sources sinks greenhouse gases second half centuri': array([0.2937013]), '” words, hit net zero emissions around mid-centuri': array([0.53099079]), '': array([0.]), \"2018 timeline need goal spelt clearly, intergovernmental panel climate change's report stopping 1\": array([0.12492772]), '5°c warm': array([0.]), 'un climate science panel said global carbon dioxide emissions must fall 45 per cent 2030, net zero 2050, world chance avoiding devastating consequences breaching 1': array([0.59546516]), '5°c threshold': array([0.]), 'report helped spur countries including sweden set goal net zero emissions 2050, followed uk 2019, first major economy': array([0.48723066]), \"2020, china, world's biggest emitter, pledged would reach “carbon neutrality” 2060\": array([0.1356127]), 'businesses, sub-national actors states regions, also set similar target': array([0.05832118]), 'net rather zero? even decarbonise electricity grids entirely, make green hydrogen production affordable dramatically scale carbon capture storage, still rump emissions left 2050': array([0.54295699]), 'come hard- impossible-to-abate sectors including farming, aviation, heavy industry wast': array([0.07789417]), 'advertis': array([0.])}\n",
            "{'concept net zero greenhouse gas emissions first popularised paris agreement, landmark deal agreed united nations climate change conference (cop21) limit impact greenhouse gas emiss': array([0.50917508]), 'watershed meeting, nearly 200 countries agreed “to achieve balance anthropogenic emissions sources sinks greenhouse gases second half centuri': array([0.2937013]), '” words, hit net zero emissions around mid-centuri': array([0.53099079]), '': array([0.]), \"2018 timeline need goal spelt clearly, intergovernmental panel climate change's report stopping 1\": array([0.12492772]), '5°c warm': array([0.]), 'un climate science panel said global carbon dioxide emissions must fall 45 per cent 2030, net zero 2050, world chance avoiding devastating consequences breaching 1': array([0.59546516]), '5°c threshold': array([0.]), 'report helped spur countries including sweden set goal net zero emissions 2050, followed uk 2019, first major economy': array([0.48723066]), \"2020, china, world's biggest emitter, pledged would reach “carbon neutrality” 2060\": array([0.1356127]), 'businesses, sub-national actors states regions, also set similar target': array([0.05832118]), 'net rather zero? even decarbonise electricity grids entirely, make green hydrogen production affordable dramatically scale carbon capture storage, still rump emissions left 2050': array([0.54295699]), 'come hard- impossible-to-abate sectors including farming, aviation, heavy industry wast': array([0.07789417]), 'advertis': array([0.])}\n",
            "{'concept net zero greenhouse gas emissions first popularised paris agreement, landmark deal agreed united nations climate change conference (cop21) limit impact greenhouse gas emiss': array([0.50917508]), 'watershed meeting, nearly 200 countries agreed “to achieve balance anthropogenic emissions sources sinks greenhouse gases second half centuri': array([0.2937013]), '” words, hit net zero emissions around mid-centuri': array([0.53099079]), '': array([0.]), \"2018 timeline need goal spelt clearly, intergovernmental panel climate change's report stopping 1\": array([0.12492772]), '5°c warm': array([0.]), 'un climate science panel said global carbon dioxide emissions must fall 45 per cent 2030, net zero 2050, world chance avoiding devastating consequences breaching 1': array([0.59546516]), '5°c threshold': array([0.]), 'report helped spur countries including sweden set goal net zero emissions 2050, followed uk 2019, first major economy': array([0.48723066]), \"2020, china, world's biggest emitter, pledged would reach “carbon neutrality” 2060\": array([0.1356127]), 'businesses, sub-national actors states regions, also set similar target': array([0.05832118]), 'net rather zero? even decarbonise electricity grids entirely, make green hydrogen production affordable dramatically scale carbon capture storage, still rump emissions left 2050': array([0.54295699]), 'come hard- impossible-to-abate sectors including farming, aviation, heavy industry wast': array([0.07789417]), 'advertis': array([0.]), 'greenhouse gas removals come': array([0.215562])}\n",
            "{'concept net zero greenhouse gas emissions first popularised paris agreement, landmark deal agreed united nations climate change conference (cop21) limit impact greenhouse gas emiss': array([0.50917508]), 'watershed meeting, nearly 200 countries agreed “to achieve balance anthropogenic emissions sources sinks greenhouse gases second half centuri': array([0.2937013]), '” words, hit net zero emissions around mid-centuri': array([0.53099079]), '': array([0.]), \"2018 timeline need goal spelt clearly, intergovernmental panel climate change's report stopping 1\": array([0.12492772]), '5°c warm': array([0.]), 'un climate science panel said global carbon dioxide emissions must fall 45 per cent 2030, net zero 2050, world chance avoiding devastating consequences breaching 1': array([0.59546516]), '5°c threshold': array([0.]), 'report helped spur countries including sweden set goal net zero emissions 2050, followed uk 2019, first major economy': array([0.48723066]), \"2020, china, world's biggest emitter, pledged would reach “carbon neutrality” 2060\": array([0.1356127]), 'businesses, sub-national actors states regions, also set similar target': array([0.05832118]), 'net rather zero? even decarbonise electricity grids entirely, make green hydrogen production affordable dramatically scale carbon capture storage, still rump emissions left 2050': array([0.54295699]), 'come hard- impossible-to-abate sectors including farming, aviation, heavy industry wast': array([0.07789417]), 'advertis': array([0.]), 'greenhouse gas removals come': array([0.215562]), 'tree-planting, restoring peatlands, technologies direct air capture co2 tip carbon accounting scales cancel remaining rump, leaving country business net zero': array([0.48681759])}\n",
            "{'concept net zero greenhouse gas emissions first popularised paris agreement, landmark deal agreed united nations climate change conference (cop21) limit impact greenhouse gas emiss': array([0.50917508]), 'watershed meeting, nearly 200 countries agreed “to achieve balance anthropogenic emissions sources sinks greenhouse gases second half centuri': array([0.2937013]), '” words, hit net zero emissions around mid-centuri': array([0.53099079]), '': array([0.]), \"2018 timeline need goal spelt clearly, intergovernmental panel climate change's report stopping 1\": array([0.12492772]), '5°c warm': array([0.]), 'un climate science panel said global carbon dioxide emissions must fall 45 per cent 2030, net zero 2050, world chance avoiding devastating consequences breaching 1': array([0.59546516]), '5°c threshold': array([0.]), 'report helped spur countries including sweden set goal net zero emissions 2050, followed uk 2019, first major economy': array([0.48723066]), \"2020, china, world's biggest emitter, pledged would reach “carbon neutrality” 2060\": array([0.1356127]), 'businesses, sub-national actors states regions, also set similar target': array([0.05832118]), 'net rather zero? even decarbonise electricity grids entirely, make green hydrogen production affordable dramatically scale carbon capture storage, still rump emissions left 2050': array([0.54295699]), 'come hard- impossible-to-abate sectors including farming, aviation, heavy industry wast': array([0.07789417]), 'advertis': array([0.]), 'greenhouse gas removals come': array([0.215562]), 'tree-planting, restoring peatlands, technologies direct air capture co2 tip carbon accounting scales cancel remaining rump, leaving country business net zero': array([0.48681759])}\n",
            "{'concept net zero greenhouse gas emissions first popularised paris agreement, landmark deal agreed united nations climate change conference (cop21) limit impact greenhouse gas emiss': array([0.50917508]), 'watershed meeting, nearly 200 countries agreed “to achieve balance anthropogenic emissions sources sinks greenhouse gases second half centuri': array([0.2937013]), '” words, hit net zero emissions around mid-centuri': array([0.53099079]), '': array([0.]), \"2018 timeline need goal spelt clearly, intergovernmental panel climate change's report stopping 1\": array([0.12492772]), '5°c warm': array([0.]), 'un climate science panel said global carbon dioxide emissions must fall 45 per cent 2030, net zero 2050, world chance avoiding devastating consequences breaching 1': array([0.59546516]), '5°c threshold': array([0.]), 'report helped spur countries including sweden set goal net zero emissions 2050, followed uk 2019, first major economy': array([0.48723066]), \"2020, china, world's biggest emitter, pledged would reach “carbon neutrality” 2060\": array([0.1356127]), 'businesses, sub-national actors states regions, also set similar target': array([0.05832118]), 'net rather zero? even decarbonise electricity grids entirely, make green hydrogen production affordable dramatically scale carbon capture storage, still rump emissions left 2050': array([0.54295699]), 'come hard- impossible-to-abate sectors including farming, aviation, heavy industry wast': array([0.07789417]), 'advertis': array([0.]), 'greenhouse gas removals come': array([0.215562]), 'tree-planting, restoring peatlands, technologies direct air capture co2 tip carbon accounting scales cancel remaining rump, leaving country business net zero': array([0.48681759])}\n",
            "{'concept net zero greenhouse gas emissions first popularised paris agreement, landmark deal agreed united nations climate change conference (cop21) limit impact greenhouse gas emiss': array([0.50917508]), 'watershed meeting, nearly 200 countries agreed “to achieve balance anthropogenic emissions sources sinks greenhouse gases second half centuri': array([0.2937013]), '” words, hit net zero emissions around mid-centuri': array([0.53099079]), '': array([0.]), \"2018 timeline need goal spelt clearly, intergovernmental panel climate change's report stopping 1\": array([0.12492772]), '5°c warm': array([0.]), 'un climate science panel said global carbon dioxide emissions must fall 45 per cent 2030, net zero 2050, world chance avoiding devastating consequences breaching 1': array([0.59546516]), '5°c threshold': array([0.]), 'report helped spur countries including sweden set goal net zero emissions 2050, followed uk 2019, first major economy': array([0.48723066]), \"2020, china, world's biggest emitter, pledged would reach “carbon neutrality” 2060\": array([0.1356127]), 'businesses, sub-national actors states regions, also set similar target': array([0.05832118]), 'net rather zero? even decarbonise electricity grids entirely, make green hydrogen production affordable dramatically scale carbon capture storage, still rump emissions left 2050': array([0.54295699]), 'come hard- impossible-to-abate sectors including farming, aviation, heavy industry wast': array([0.07789417]), 'advertis': array([0.]), 'greenhouse gas removals come': array([0.215562]), 'tree-planting, restoring peatlands, technologies direct air capture co2 tip carbon accounting scales cancel remaining rump, leaving country business net zero': array([0.48681759]), 'technical important questions around best ways achieve net zero': array([0.4504233])}\n",
            "{'concept net zero greenhouse gas emissions first popularised paris agreement, landmark deal agreed united nations climate change conference (cop21) limit impact greenhouse gas emiss': array([0.50917508]), 'watershed meeting, nearly 200 countries agreed “to achieve balance anthropogenic emissions sources sinks greenhouse gases second half centuri': array([0.2937013]), '” words, hit net zero emissions around mid-centuri': array([0.53099079]), '': array([0.]), \"2018 timeline need goal spelt clearly, intergovernmental panel climate change's report stopping 1\": array([0.12492772]), '5°c warm': array([0.]), 'un climate science panel said global carbon dioxide emissions must fall 45 per cent 2030, net zero 2050, world chance avoiding devastating consequences breaching 1': array([0.59546516]), '5°c threshold': array([0.]), 'report helped spur countries including sweden set goal net zero emissions 2050, followed uk 2019, first major economy': array([0.48723066]), \"2020, china, world's biggest emitter, pledged would reach “carbon neutrality” 2060\": array([0.1356127]), 'businesses, sub-national actors states regions, also set similar target': array([0.05832118]), 'net rather zero? even decarbonise electricity grids entirely, make green hydrogen production affordable dramatically scale carbon capture storage, still rump emissions left 2050': array([0.54295699]), 'come hard- impossible-to-abate sectors including farming, aviation, heavy industry wast': array([0.07789417]), 'advertis': array([0.]), 'greenhouse gas removals come': array([0.215562]), 'tree-planting, restoring peatlands, technologies direct air capture co2 tip carbon accounting scales cancel remaining rump, leaving country business net zero': array([0.48681759]), 'technical important questions around best ways achieve net zero': array([0.4504233]), \"one whether “carbon credits” countries allowed count towards country's progress\": array([0.18722218])}\n",
            "{'concept net zero greenhouse gas emissions first popularised paris agreement, landmark deal agreed united nations climate change conference (cop21) limit impact greenhouse gas emiss': array([0.50917508]), 'watershed meeting, nearly 200 countries agreed “to achieve balance anthropogenic emissions sources sinks greenhouse gases second half centuri': array([0.2937013]), '” words, hit net zero emissions around mid-centuri': array([0.53099079]), '': array([0.]), \"2018 timeline need goal spelt clearly, intergovernmental panel climate change's report stopping 1\": array([0.12492772]), '5°c warm': array([0.]), 'un climate science panel said global carbon dioxide emissions must fall 45 per cent 2030, net zero 2050, world chance avoiding devastating consequences breaching 1': array([0.59546516]), '5°c threshold': array([0.]), 'report helped spur countries including sweden set goal net zero emissions 2050, followed uk 2019, first major economy': array([0.48723066]), \"2020, china, world's biggest emitter, pledged would reach “carbon neutrality” 2060\": array([0.1356127]), 'businesses, sub-national actors states regions, also set similar target': array([0.05832118]), 'net rather zero? even decarbonise electricity grids entirely, make green hydrogen production affordable dramatically scale carbon capture storage, still rump emissions left 2050': array([0.54295699]), 'come hard- impossible-to-abate sectors including farming, aviation, heavy industry wast': array([0.07789417]), 'advertis': array([0.]), 'greenhouse gas removals come': array([0.215562]), 'tree-planting, restoring peatlands, technologies direct air capture co2 tip carbon accounting scales cancel remaining rump, leaving country business net zero': array([0.48681759]), 'technical important questions around best ways achieve net zero': array([0.4504233]), \"one whether “carbon credits” countries allowed count towards country's progress\": array([0.18722218]), \"uk government's advisers, climate change committee (ccc), argues not, expense also countries eventually need reach net zero, option vanish\": array([0.43603326])}\n",
            "{'concept net zero greenhouse gas emissions first popularised paris agreement, landmark deal agreed united nations climate change conference (cop21) limit impact greenhouse gas emiss': array([0.50917508]), 'watershed meeting, nearly 200 countries agreed “to achieve balance anthropogenic emissions sources sinks greenhouse gases second half centuri': array([0.2937013]), '” words, hit net zero emissions around mid-centuri': array([0.53099079]), '': array([0.]), \"2018 timeline need goal spelt clearly, intergovernmental panel climate change's report stopping 1\": array([0.12492772]), '5°c warm': array([0.]), 'un climate science panel said global carbon dioxide emissions must fall 45 per cent 2030, net zero 2050, world chance avoiding devastating consequences breaching 1': array([0.59546516]), '5°c threshold': array([0.]), 'report helped spur countries including sweden set goal net zero emissions 2050, followed uk 2019, first major economy': array([0.48723066]), \"2020, china, world's biggest emitter, pledged would reach “carbon neutrality” 2060\": array([0.1356127]), 'businesses, sub-national actors states regions, also set similar target': array([0.05832118]), 'net rather zero? even decarbonise electricity grids entirely, make green hydrogen production affordable dramatically scale carbon capture storage, still rump emissions left 2050': array([0.54295699]), 'come hard- impossible-to-abate sectors including farming, aviation, heavy industry wast': array([0.07789417]), 'advertis': array([0.]), 'greenhouse gas removals come': array([0.215562]), 'tree-planting, restoring peatlands, technologies direct air capture co2 tip carbon accounting scales cancel remaining rump, leaving country business net zero': array([0.48681759]), 'technical important questions around best ways achieve net zero': array([0.4504233]), \"one whether “carbon credits” countries allowed count towards country's progress\": array([0.18722218]), \"uk government's advisers, climate change committee (ccc), argues not, expense also countries eventually need reach net zero, option vanish\": array([0.43603326])}\n",
            "{'concept net zero greenhouse gas emissions first popularised paris agreement, landmark deal agreed united nations climate change conference (cop21) limit impact greenhouse gas emiss': array([0.50917508]), 'watershed meeting, nearly 200 countries agreed “to achieve balance anthropogenic emissions sources sinks greenhouse gases second half centuri': array([0.2937013]), '” words, hit net zero emissions around mid-centuri': array([0.53099079]), '': array([0.]), \"2018 timeline need goal spelt clearly, intergovernmental panel climate change's report stopping 1\": array([0.12492772]), '5°c warm': array([0.]), 'un climate science panel said global carbon dioxide emissions must fall 45 per cent 2030, net zero 2050, world chance avoiding devastating consequences breaching 1': array([0.59546516]), '5°c threshold': array([0.]), 'report helped spur countries including sweden set goal net zero emissions 2050, followed uk 2019, first major economy': array([0.48723066]), \"2020, china, world's biggest emitter, pledged would reach “carbon neutrality” 2060\": array([0.1356127]), 'businesses, sub-national actors states regions, also set similar target': array([0.05832118]), 'net rather zero? even decarbonise electricity grids entirely, make green hydrogen production affordable dramatically scale carbon capture storage, still rump emissions left 2050': array([0.54295699]), 'come hard- impossible-to-abate sectors including farming, aviation, heavy industry wast': array([0.07789417]), 'advertis': array([0.]), 'greenhouse gas removals come': array([0.215562]), 'tree-planting, restoring peatlands, technologies direct air capture co2 tip carbon accounting scales cancel remaining rump, leaving country business net zero': array([0.48681759]), 'technical important questions around best ways achieve net zero': array([0.4504233]), \"one whether “carbon credits” countries allowed count towards country's progress\": array([0.18722218]), \"uk government's advisers, climate change committee (ccc), argues not, expense also countries eventually need reach net zero, option vanish\": array([0.43603326])}\n",
            "{'concept net zero greenhouse gas emissions first popularised paris agreement, landmark deal agreed united nations climate change conference (cop21) limit impact greenhouse gas emiss': array([0.50917508]), 'watershed meeting, nearly 200 countries agreed “to achieve balance anthropogenic emissions sources sinks greenhouse gases second half centuri': array([0.2937013]), '” words, hit net zero emissions around mid-centuri': array([0.53099079]), '': array([0.]), \"2018 timeline need goal spelt clearly, intergovernmental panel climate change's report stopping 1\": array([0.12492772]), '5°c warm': array([0.]), 'un climate science panel said global carbon dioxide emissions must fall 45 per cent 2030, net zero 2050, world chance avoiding devastating consequences breaching 1': array([0.59546516]), '5°c threshold': array([0.]), 'report helped spur countries including sweden set goal net zero emissions 2050, followed uk 2019, first major economy': array([0.48723066]), \"2020, china, world's biggest emitter, pledged would reach “carbon neutrality” 2060\": array([0.1356127]), 'businesses, sub-national actors states regions, also set similar target': array([0.05832118]), 'net rather zero? even decarbonise electricity grids entirely, make green hydrogen production affordable dramatically scale carbon capture storage, still rump emissions left 2050': array([0.54295699]), 'come hard- impossible-to-abate sectors including farming, aviation, heavy industry wast': array([0.07789417]), 'advertis': array([0.]), 'greenhouse gas removals come': array([0.215562]), 'tree-planting, restoring peatlands, technologies direct air capture co2 tip carbon accounting scales cancel remaining rump, leaving country business net zero': array([0.48681759]), 'technical important questions around best ways achieve net zero': array([0.4504233]), \"one whether “carbon credits” countries allowed count towards country's progress\": array([0.18722218]), \"uk government's advisers, climate change committee (ccc), argues not, expense also countries eventually need reach net zero, option vanish\": array([0.43603326]), 'another whether net zero cover carbon emissions greenhouse gas emissions, including others methane, comes principally farming oil gas product': array([0.55796832])}\n",
            "{'concept net zero greenhouse gas emissions first popularised paris agreement, landmark deal agreed united nations climate change conference (cop21) limit impact greenhouse gas emiss': array([0.50917508]), 'watershed meeting, nearly 200 countries agreed “to achieve balance anthropogenic emissions sources sinks greenhouse gases second half centuri': array([0.2937013]), '” words, hit net zero emissions around mid-centuri': array([0.53099079]), '': array([0.]), \"2018 timeline need goal spelt clearly, intergovernmental panel climate change's report stopping 1\": array([0.12492772]), '5°c warm': array([0.]), 'un climate science panel said global carbon dioxide emissions must fall 45 per cent 2030, net zero 2050, world chance avoiding devastating consequences breaching 1': array([0.59546516]), '5°c threshold': array([0.]), 'report helped spur countries including sweden set goal net zero emissions 2050, followed uk 2019, first major economy': array([0.48723066]), \"2020, china, world's biggest emitter, pledged would reach “carbon neutrality” 2060\": array([0.1356127]), 'businesses, sub-national actors states regions, also set similar target': array([0.05832118]), 'net rather zero? even decarbonise electricity grids entirely, make green hydrogen production affordable dramatically scale carbon capture storage, still rump emissions left 2050': array([0.54295699]), 'come hard- impossible-to-abate sectors including farming, aviation, heavy industry wast': array([0.07789417]), 'advertis': array([0.]), 'greenhouse gas removals come': array([0.215562]), 'tree-planting, restoring peatlands, technologies direct air capture co2 tip carbon accounting scales cancel remaining rump, leaving country business net zero': array([0.48681759]), 'technical important questions around best ways achieve net zero': array([0.4504233]), \"one whether “carbon credits” countries allowed count towards country's progress\": array([0.18722218]), \"uk government's advisers, climate change committee (ccc), argues not, expense also countries eventually need reach net zero, option vanish\": array([0.43603326]), 'another whether net zero cover carbon emissions greenhouse gas emissions, including others methane, comes principally farming oil gas product': array([0.55796832]), 'ccc says better cover greenhouse gas emiss': array([0.2045983])}\n",
            "{'concept net zero greenhouse gas emissions first popularised paris agreement, landmark deal agreed united nations climate change conference (cop21) limit impact greenhouse gas emiss': array([0.50917508]), 'watershed meeting, nearly 200 countries agreed “to achieve balance anthropogenic emissions sources sinks greenhouse gases second half centuri': array([0.2937013]), '” words, hit net zero emissions around mid-centuri': array([0.53099079]), '': array([0.]), \"2018 timeline need goal spelt clearly, intergovernmental panel climate change's report stopping 1\": array([0.12492772]), '5°c warm': array([0.]), 'un climate science panel said global carbon dioxide emissions must fall 45 per cent 2030, net zero 2050, world chance avoiding devastating consequences breaching 1': array([0.59546516]), '5°c threshold': array([0.]), 'report helped spur countries including sweden set goal net zero emissions 2050, followed uk 2019, first major economy': array([0.48723066]), \"2020, china, world's biggest emitter, pledged would reach “carbon neutrality” 2060\": array([0.1356127]), 'businesses, sub-national actors states regions, also set similar target': array([0.05832118]), 'net rather zero? even decarbonise electricity grids entirely, make green hydrogen production affordable dramatically scale carbon capture storage, still rump emissions left 2050': array([0.54295699]), 'come hard- impossible-to-abate sectors including farming, aviation, heavy industry wast': array([0.07789417]), 'advertis': array([0.]), 'greenhouse gas removals come': array([0.215562]), 'tree-planting, restoring peatlands, technologies direct air capture co2 tip carbon accounting scales cancel remaining rump, leaving country business net zero': array([0.48681759]), 'technical important questions around best ways achieve net zero': array([0.4504233]), \"one whether “carbon credits” countries allowed count towards country's progress\": array([0.18722218]), \"uk government's advisers, climate change committee (ccc), argues not, expense also countries eventually need reach net zero, option vanish\": array([0.43603326]), 'another whether net zero cover carbon emissions greenhouse gas emissions, including others methane, comes principally farming oil gas product': array([0.55796832]), 'ccc says better cover greenhouse gas emiss': array([0.2045983])}\n",
            "{'concept net zero greenhouse gas emissions first popularised paris agreement, landmark deal agreed united nations climate change conference (cop21) limit impact greenhouse gas emiss': array([0.50917508]), 'watershed meeting, nearly 200 countries agreed “to achieve balance anthropogenic emissions sources sinks greenhouse gases second half centuri': array([0.2937013]), '” words, hit net zero emissions around mid-centuri': array([0.53099079]), '': array([0.]), \"2018 timeline need goal spelt clearly, intergovernmental panel climate change's report stopping 1\": array([0.12492772]), '5°c warm': array([0.]), 'un climate science panel said global carbon dioxide emissions must fall 45 per cent 2030, net zero 2050, world chance avoiding devastating consequences breaching 1': array([0.59546516]), '5°c threshold': array([0.]), 'report helped spur countries including sweden set goal net zero emissions 2050, followed uk 2019, first major economy': array([0.48723066]), \"2020, china, world's biggest emitter, pledged would reach “carbon neutrality” 2060\": array([0.1356127]), 'businesses, sub-national actors states regions, also set similar target': array([0.05832118]), 'net rather zero? even decarbonise electricity grids entirely, make green hydrogen production affordable dramatically scale carbon capture storage, still rump emissions left 2050': array([0.54295699]), 'come hard- impossible-to-abate sectors including farming, aviation, heavy industry wast': array([0.07789417]), 'advertis': array([0.]), 'greenhouse gas removals come': array([0.215562]), 'tree-planting, restoring peatlands, technologies direct air capture co2 tip carbon accounting scales cancel remaining rump, leaving country business net zero': array([0.48681759]), 'technical important questions around best ways achieve net zero': array([0.4504233]), \"one whether “carbon credits” countries allowed count towards country's progress\": array([0.18722218]), \"uk government's advisers, climate change committee (ccc), argues not, expense also countries eventually need reach net zero, option vanish\": array([0.43603326]), 'another whether net zero cover carbon emissions greenhouse gas emissions, including others methane, comes principally farming oil gas product': array([0.55796832]), 'ccc says better cover greenhouse gas emiss': array([0.2045983])}\n",
            "{'concept net zero greenhouse gas emissions first popularised paris agreement, landmark deal agreed united nations climate change conference (cop21) limit impact greenhouse gas emiss': array([0.50917508]), 'watershed meeting, nearly 200 countries agreed “to achieve balance anthropogenic emissions sources sinks greenhouse gases second half centuri': array([0.2937013]), '” words, hit net zero emissions around mid-centuri': array([0.53099079]), '': array([0.]), \"2018 timeline need goal spelt clearly, intergovernmental panel climate change's report stopping 1\": array([0.12492772]), '5°c warm': array([0.]), 'un climate science panel said global carbon dioxide emissions must fall 45 per cent 2030, net zero 2050, world chance avoiding devastating consequences breaching 1': array([0.59546516]), '5°c threshold': array([0.]), 'report helped spur countries including sweden set goal net zero emissions 2050, followed uk 2019, first major economy': array([0.48723066]), \"2020, china, world's biggest emitter, pledged would reach “carbon neutrality” 2060\": array([0.1356127]), 'businesses, sub-national actors states regions, also set similar target': array([0.05832118]), 'net rather zero? even decarbonise electricity grids entirely, make green hydrogen production affordable dramatically scale carbon capture storage, still rump emissions left 2050': array([0.54295699]), 'come hard- impossible-to-abate sectors including farming, aviation, heavy industry wast': array([0.07789417]), 'advertis': array([0.]), 'greenhouse gas removals come': array([0.215562]), 'tree-planting, restoring peatlands, technologies direct air capture co2 tip carbon accounting scales cancel remaining rump, leaving country business net zero': array([0.48681759]), 'technical important questions around best ways achieve net zero': array([0.4504233]), \"one whether “carbon credits” countries allowed count towards country's progress\": array([0.18722218]), \"uk government's advisers, climate change committee (ccc), argues not, expense also countries eventually need reach net zero, option vanish\": array([0.43603326]), 'another whether net zero cover carbon emissions greenhouse gas emissions, including others methane, comes principally farming oil gas product': array([0.55796832]), 'ccc says better cover greenhouse gas emiss': array([0.2045983]), 'figures, former bank england governor mark carney, stirred controversy appearing suggest alternative definitions net zero': array([0.50100301])}\n",
            "{'concept net zero greenhouse gas emissions first popularised paris agreement, landmark deal agreed united nations climate change conference (cop21) limit impact greenhouse gas emiss': array([0.50917508]), 'watershed meeting, nearly 200 countries agreed “to achieve balance anthropogenic emissions sources sinks greenhouse gases second half centuri': array([0.2937013]), '” words, hit net zero emissions around mid-centuri': array([0.53099079]), '': array([0.]), \"2018 timeline need goal spelt clearly, intergovernmental panel climate change's report stopping 1\": array([0.12492772]), '5°c warm': array([0.]), 'un climate science panel said global carbon dioxide emissions must fall 45 per cent 2030, net zero 2050, world chance avoiding devastating consequences breaching 1': array([0.59546516]), '5°c threshold': array([0.]), 'report helped spur countries including sweden set goal net zero emissions 2050, followed uk 2019, first major economy': array([0.48723066]), \"2020, china, world's biggest emitter, pledged would reach “carbon neutrality” 2060\": array([0.1356127]), 'businesses, sub-national actors states regions, also set similar target': array([0.05832118]), 'net rather zero? even decarbonise electricity grids entirely, make green hydrogen production affordable dramatically scale carbon capture storage, still rump emissions left 2050': array([0.54295699]), 'come hard- impossible-to-abate sectors including farming, aviation, heavy industry wast': array([0.07789417]), 'advertis': array([0.]), 'greenhouse gas removals come': array([0.215562]), 'tree-planting, restoring peatlands, technologies direct air capture co2 tip carbon accounting scales cancel remaining rump, leaving country business net zero': array([0.48681759]), 'technical important questions around best ways achieve net zero': array([0.4504233]), \"one whether “carbon credits” countries allowed count towards country's progress\": array([0.18722218]), \"uk government's advisers, climate change committee (ccc), argues not, expense also countries eventually need reach net zero, option vanish\": array([0.43603326]), 'another whether net zero cover carbon emissions greenhouse gas emissions, including others methane, comes principally farming oil gas product': array([0.55796832]), 'ccc says better cover greenhouse gas emiss': array([0.2045983]), 'figures, former bank england governor mark carney, stirred controversy appearing suggest alternative definitions net zero': array([0.50100301]), 'claimed asset manager works, brookfield asset management inc, net zero investments renewable energy “avoid emissions”, despite firm holding major investments coal, oil ga': array([0.53658205])}\n",
            "{'concept net zero greenhouse gas emissions first popularised paris agreement, landmark deal agreed united nations climate change conference (cop21) limit impact greenhouse gas emiss': array([0.50917508]), 'watershed meeting, nearly 200 countries agreed “to achieve balance anthropogenic emissions sources sinks greenhouse gases second half centuri': array([0.2937013]), '” words, hit net zero emissions around mid-centuri': array([0.53099079]), '': array([0.]), \"2018 timeline need goal spelt clearly, intergovernmental panel climate change's report stopping 1\": array([0.12492772]), '5°c warm': array([0.]), 'un climate science panel said global carbon dioxide emissions must fall 45 per cent 2030, net zero 2050, world chance avoiding devastating consequences breaching 1': array([0.59546516]), '5°c threshold': array([0.]), 'report helped spur countries including sweden set goal net zero emissions 2050, followed uk 2019, first major economy': array([0.48723066]), \"2020, china, world's biggest emitter, pledged would reach “carbon neutrality” 2060\": array([0.1356127]), 'businesses, sub-national actors states regions, also set similar target': array([0.05832118]), 'net rather zero? even decarbonise electricity grids entirely, make green hydrogen production affordable dramatically scale carbon capture storage, still rump emissions left 2050': array([0.54295699]), 'come hard- impossible-to-abate sectors including farming, aviation, heavy industry wast': array([0.07789417]), 'advertis': array([0.]), 'greenhouse gas removals come': array([0.215562]), 'tree-planting, restoring peatlands, technologies direct air capture co2 tip carbon accounting scales cancel remaining rump, leaving country business net zero': array([0.48681759]), 'technical important questions around best ways achieve net zero': array([0.4504233]), \"one whether “carbon credits” countries allowed count towards country's progress\": array([0.18722218]), \"uk government's advisers, climate change committee (ccc), argues not, expense also countries eventually need reach net zero, option vanish\": array([0.43603326]), 'another whether net zero cover carbon emissions greenhouse gas emissions, including others methane, comes principally farming oil gas product': array([0.55796832]), 'ccc says better cover greenhouse gas emiss': array([0.2045983]), 'figures, former bank england governor mark carney, stirred controversy appearing suggest alternative definitions net zero': array([0.50100301]), 'claimed asset manager works, brookfield asset management inc, net zero investments renewable energy “avoid emissions”, despite firm holding major investments coal, oil ga': array([0.53658205]), 'carney later rowed back claim': array([0.])}\n",
            "{'concept net zero greenhouse gas emissions first popularised paris agreement, landmark deal agreed united nations climate change conference (cop21) limit impact greenhouse gas emiss': array([0.50917508]), 'watershed meeting, nearly 200 countries agreed “to achieve balance anthropogenic emissions sources sinks greenhouse gases second half centuri': array([0.2937013]), '” words, hit net zero emissions around mid-centuri': array([0.53099079]), '': array([0.]), \"2018 timeline need goal spelt clearly, intergovernmental panel climate change's report stopping 1\": array([0.12492772]), '5°c warm': array([0.]), 'un climate science panel said global carbon dioxide emissions must fall 45 per cent 2030, net zero 2050, world chance avoiding devastating consequences breaching 1': array([0.59546516]), '5°c threshold': array([0.]), 'report helped spur countries including sweden set goal net zero emissions 2050, followed uk 2019, first major economy': array([0.48723066]), \"2020, china, world's biggest emitter, pledged would reach “carbon neutrality” 2060\": array([0.1356127]), 'businesses, sub-national actors states regions, also set similar target': array([0.05832118]), 'net rather zero? even decarbonise electricity grids entirely, make green hydrogen production affordable dramatically scale carbon capture storage, still rump emissions left 2050': array([0.54295699]), 'come hard- impossible-to-abate sectors including farming, aviation, heavy industry wast': array([0.07789417]), 'advertis': array([0.]), 'greenhouse gas removals come': array([0.215562]), 'tree-planting, restoring peatlands, technologies direct air capture co2 tip carbon accounting scales cancel remaining rump, leaving country business net zero': array([0.48681759]), 'technical important questions around best ways achieve net zero': array([0.4504233]), \"one whether “carbon credits” countries allowed count towards country's progress\": array([0.18722218]), \"uk government's advisers, climate change committee (ccc), argues not, expense also countries eventually need reach net zero, option vanish\": array([0.43603326]), 'another whether net zero cover carbon emissions greenhouse gas emissions, including others methane, comes principally farming oil gas product': array([0.55796832]), 'ccc says better cover greenhouse gas emiss': array([0.2045983]), 'figures, former bank england governor mark carney, stirred controversy appearing suggest alternative definitions net zero': array([0.50100301]), 'claimed asset manager works, brookfield asset management inc, net zero investments renewable energy “avoid emissions”, despite firm holding major investments coal, oil ga': array([0.53658205]), 'carney later rowed back claim': array([0.])}\n",
            "{'concept net zero greenhouse gas emissions first popularised paris agreement, landmark deal agreed united nations climate change conference (cop21) limit impact greenhouse gas emiss': array([0.50917508]), 'watershed meeting, nearly 200 countries agreed “to achieve balance anthropogenic emissions sources sinks greenhouse gases second half centuri': array([0.2937013]), '” words, hit net zero emissions around mid-centuri': array([0.53099079]), '': array([0.]), \"2018 timeline need goal spelt clearly, intergovernmental panel climate change's report stopping 1\": array([0.12492772]), '5°c warm': array([0.]), 'un climate science panel said global carbon dioxide emissions must fall 45 per cent 2030, net zero 2050, world chance avoiding devastating consequences breaching 1': array([0.59546516]), '5°c threshold': array([0.]), 'report helped spur countries including sweden set goal net zero emissions 2050, followed uk 2019, first major economy': array([0.48723066]), \"2020, china, world's biggest emitter, pledged would reach “carbon neutrality” 2060\": array([0.1356127]), 'businesses, sub-national actors states regions, also set similar target': array([0.05832118]), 'net rather zero? even decarbonise electricity grids entirely, make green hydrogen production affordable dramatically scale carbon capture storage, still rump emissions left 2050': array([0.54295699]), 'come hard- impossible-to-abate sectors including farming, aviation, heavy industry wast': array([0.07789417]), 'advertis': array([0.]), 'greenhouse gas removals come': array([0.215562]), 'tree-planting, restoring peatlands, technologies direct air capture co2 tip carbon accounting scales cancel remaining rump, leaving country business net zero': array([0.48681759]), 'technical important questions around best ways achieve net zero': array([0.4504233]), \"one whether “carbon credits” countries allowed count towards country's progress\": array([0.18722218]), \"uk government's advisers, climate change committee (ccc), argues not, expense also countries eventually need reach net zero, option vanish\": array([0.43603326]), 'another whether net zero cover carbon emissions greenhouse gas emissions, including others methane, comes principally farming oil gas product': array([0.55796832]), 'ccc says better cover greenhouse gas emiss': array([0.2045983]), 'figures, former bank england governor mark carney, stirred controversy appearing suggest alternative definitions net zero': array([0.50100301]), 'claimed asset manager works, brookfield asset management inc, net zero investments renewable energy “avoid emissions”, despite firm holding major investments coal, oil ga': array([0.53658205]), 'carney later rowed back claim': array([0.])}\n",
            "{'concept net zero greenhouse gas emissions first popularised paris agreement, landmark deal agreed united nations climate change conference (cop21) limit impact greenhouse gas emiss': array([0.50917508]), 'watershed meeting, nearly 200 countries agreed “to achieve balance anthropogenic emissions sources sinks greenhouse gases second half centuri': array([0.2937013]), '” words, hit net zero emissions around mid-centuri': array([0.53099079]), '': array([0.]), \"2018 timeline need goal spelt clearly, intergovernmental panel climate change's report stopping 1\": array([0.12492772]), '5°c warm': array([0.]), 'un climate science panel said global carbon dioxide emissions must fall 45 per cent 2030, net zero 2050, world chance avoiding devastating consequences breaching 1': array([0.59546516]), '5°c threshold': array([0.]), 'report helped spur countries including sweden set goal net zero emissions 2050, followed uk 2019, first major economy': array([0.48723066]), \"2020, china, world's biggest emitter, pledged would reach “carbon neutrality” 2060\": array([0.1356127]), 'businesses, sub-national actors states regions, also set similar target': array([0.05832118]), 'net rather zero? even decarbonise electricity grids entirely, make green hydrogen production affordable dramatically scale carbon capture storage, still rump emissions left 2050': array([0.54295699]), 'come hard- impossible-to-abate sectors including farming, aviation, heavy industry wast': array([0.07789417]), 'advertis': array([0.]), 'greenhouse gas removals come': array([0.215562]), 'tree-planting, restoring peatlands, technologies direct air capture co2 tip carbon accounting scales cancel remaining rump, leaving country business net zero': array([0.48681759]), 'technical important questions around best ways achieve net zero': array([0.4504233]), \"one whether “carbon credits” countries allowed count towards country's progress\": array([0.18722218]), \"uk government's advisers, climate change committee (ccc), argues not, expense also countries eventually need reach net zero, option vanish\": array([0.43603326]), 'another whether net zero cover carbon emissions greenhouse gas emissions, including others methane, comes principally farming oil gas product': array([0.55796832]), 'ccc says better cover greenhouse gas emiss': array([0.2045983]), 'figures, former bank england governor mark carney, stirred controversy appearing suggest alternative definitions net zero': array([0.50100301]), 'claimed asset manager works, brookfield asset management inc, net zero investments renewable energy “avoid emissions”, despite firm holding major investments coal, oil ga': array([0.53658205]), 'carney later rowed back claim': array([0.]), 'concern quarters companies countries “greenwashing” announcing net zero targets putting sufficient action place meet': array([0.46823586])}\n",
            "{'concept net zero greenhouse gas emissions first popularised paris agreement, landmark deal agreed united nations climate change conference (cop21) limit impact greenhouse gas emiss': array([0.50917508]), 'watershed meeting, nearly 200 countries agreed “to achieve balance anthropogenic emissions sources sinks greenhouse gases second half centuri': array([0.2937013]), '” words, hit net zero emissions around mid-centuri': array([0.53099079]), '': array([0.]), \"2018 timeline need goal spelt clearly, intergovernmental panel climate change's report stopping 1\": array([0.12492772]), '5°c warm': array([0.]), 'un climate science panel said global carbon dioxide emissions must fall 45 per cent 2030, net zero 2050, world chance avoiding devastating consequences breaching 1': array([0.59546516]), '5°c threshold': array([0.]), 'report helped spur countries including sweden set goal net zero emissions 2050, followed uk 2019, first major economy': array([0.48723066]), \"2020, china, world's biggest emitter, pledged would reach “carbon neutrality” 2060\": array([0.1356127]), 'businesses, sub-national actors states regions, also set similar target': array([0.05832118]), 'net rather zero? even decarbonise electricity grids entirely, make green hydrogen production affordable dramatically scale carbon capture storage, still rump emissions left 2050': array([0.54295699]), 'come hard- impossible-to-abate sectors including farming, aviation, heavy industry wast': array([0.07789417]), 'advertis': array([0.]), 'greenhouse gas removals come': array([0.215562]), 'tree-planting, restoring peatlands, technologies direct air capture co2 tip carbon accounting scales cancel remaining rump, leaving country business net zero': array([0.48681759]), 'technical important questions around best ways achieve net zero': array([0.4504233]), \"one whether “carbon credits” countries allowed count towards country's progress\": array([0.18722218]), \"uk government's advisers, climate change committee (ccc), argues not, expense also countries eventually need reach net zero, option vanish\": array([0.43603326]), 'another whether net zero cover carbon emissions greenhouse gas emissions, including others methane, comes principally farming oil gas product': array([0.55796832]), 'ccc says better cover greenhouse gas emiss': array([0.2045983]), 'figures, former bank england governor mark carney, stirred controversy appearing suggest alternative definitions net zero': array([0.50100301]), 'claimed asset manager works, brookfield asset management inc, net zero investments renewable energy “avoid emissions”, despite firm holding major investments coal, oil ga': array([0.53658205]), 'carney later rowed back claim': array([0.]), 'concern quarters companies countries “greenwashing” announcing net zero targets putting sufficient action place meet': array([0.46823586]), 'uk, example, made target law june 2019 march 2020 still off-track meet even near-term targets mid-2020s, let alone long-term net zero 2050': array([0.39994465])}\n",
            "{'concept net zero greenhouse gas emissions first popularised paris agreement, landmark deal agreed united nations climate change conference (cop21) limit impact greenhouse gas emiss': array([0.50917508]), 'watershed meeting, nearly 200 countries agreed “to achieve balance anthropogenic emissions sources sinks greenhouse gases second half centuri': array([0.2937013]), '” words, hit net zero emissions around mid-centuri': array([0.53099079]), '': array([0.]), \"2018 timeline need goal spelt clearly, intergovernmental panel climate change's report stopping 1\": array([0.12492772]), '5°c warm': array([0.]), 'un climate science panel said global carbon dioxide emissions must fall 45 per cent 2030, net zero 2050, world chance avoiding devastating consequences breaching 1': array([0.59546516]), '5°c threshold': array([0.]), 'report helped spur countries including sweden set goal net zero emissions 2050, followed uk 2019, first major economy': array([0.48723066]), \"2020, china, world's biggest emitter, pledged would reach “carbon neutrality” 2060\": array([0.1356127]), 'businesses, sub-national actors states regions, also set similar target': array([0.05832118]), 'net rather zero? even decarbonise electricity grids entirely, make green hydrogen production affordable dramatically scale carbon capture storage, still rump emissions left 2050': array([0.54295699]), 'come hard- impossible-to-abate sectors including farming, aviation, heavy industry wast': array([0.07789417]), 'advertis': array([0.]), 'greenhouse gas removals come': array([0.215562]), 'tree-planting, restoring peatlands, technologies direct air capture co2 tip carbon accounting scales cancel remaining rump, leaving country business net zero': array([0.48681759]), 'technical important questions around best ways achieve net zero': array([0.4504233]), \"one whether “carbon credits” countries allowed count towards country's progress\": array([0.18722218]), \"uk government's advisers, climate change committee (ccc), argues not, expense also countries eventually need reach net zero, option vanish\": array([0.43603326]), 'another whether net zero cover carbon emissions greenhouse gas emissions, including others methane, comes principally farming oil gas product': array([0.55796832]), 'ccc says better cover greenhouse gas emiss': array([0.2045983]), 'figures, former bank england governor mark carney, stirred controversy appearing suggest alternative definitions net zero': array([0.50100301]), 'claimed asset manager works, brookfield asset management inc, net zero investments renewable energy “avoid emissions”, despite firm holding major investments coal, oil ga': array([0.53658205]), 'carney later rowed back claim': array([0.]), 'concern quarters companies countries “greenwashing” announcing net zero targets putting sufficient action place meet': array([0.46823586]), 'uk, example, made target law june 2019 march 2020 still off-track meet even near-term targets mid-2020s, let alone long-term net zero 2050': array([0.39994465])}\n"
          ]
        }
      ]
    },
    {
      "cell_type": "code",
      "metadata": {
        "colab": {
          "base_uri": "https://localhost:8080/"
        },
        "id": "1nt29R5Svc_O",
        "outputId": "c3c409f7-af60-4510-c91f-41dc472e2cf7"
      },
      "source": [
        "scores"
      ],
      "execution_count": null,
      "outputs": [
        {
          "output_type": "execute_result",
          "data": {
            "text/plain": [
              "{'': array([0.]),\n",
              " \"2018 timeline need goal spelt clearly, intergovernmental panel climate change's report stopping 1\": array([0.12492772]),\n",
              " \"2020, china, world's biggest emitter, pledged would reach “carbon neutrality” 2060\": array([0.1356127]),\n",
              " '5°c threshold': array([0.]),\n",
              " '5°c warm': array([0.]),\n",
              " 'advertis': array([0.]),\n",
              " 'another whether net zero cover carbon emissions greenhouse gas emissions, including others methane, comes principally farming oil gas product': array([0.55796832]),\n",
              " 'businesses, sub-national actors states regions, also set similar target': array([0.05832118]),\n",
              " 'carney later rowed back claim': array([0.]),\n",
              " 'ccc says better cover greenhouse gas emiss': array([0.2045983]),\n",
              " 'claimed asset manager works, brookfield asset management inc, net zero investments renewable energy “avoid emissions”, despite firm holding major investments coal, oil ga': array([0.53658205]),\n",
              " 'come hard- impossible-to-abate sectors including farming, aviation, heavy industry wast': array([0.07789417]),\n",
              " 'concept net zero greenhouse gas emissions first popularised paris agreement, landmark deal agreed united nations climate change conference (cop21) limit impact greenhouse gas emiss': array([0.50917508]),\n",
              " 'concern quarters companies countries “greenwashing” announcing net zero targets putting sufficient action place meet': array([0.46823586]),\n",
              " 'figures, former bank england governor mark carney, stirred controversy appearing suggest alternative definitions net zero': array([0.50100301]),\n",
              " 'greenhouse gas removals come': array([0.215562]),\n",
              " 'net rather zero? even decarbonise electricity grids entirely, make green hydrogen production affordable dramatically scale carbon capture storage, still rump emissions left 2050': array([0.54295699]),\n",
              " \"one whether “carbon credits” countries allowed count towards country's progress\": array([0.18722218]),\n",
              " 'report helped spur countries including sweden set goal net zero emissions 2050, followed uk 2019, first major economy': array([0.48723066]),\n",
              " 'technical important questions around best ways achieve net zero': array([0.4504233]),\n",
              " 'tree-planting, restoring peatlands, technologies direct air capture co2 tip carbon accounting scales cancel remaining rump, leaving country business net zero': array([0.48681759]),\n",
              " \"uk government's advisers, climate change committee (ccc), argues not, expense also countries eventually need reach net zero, option vanish\": array([0.43603326]),\n",
              " 'uk, example, made target law june 2019 march 2020 still off-track meet even near-term targets mid-2020s, let alone long-term net zero 2050': array([0.39994465]),\n",
              " 'un climate science panel said global carbon dioxide emissions must fall 45 per cent 2030, net zero 2050, world chance avoiding devastating consequences breaching 1': array([0.59546516]),\n",
              " 'watershed meeting, nearly 200 countries agreed “to achieve balance anthropogenic emissions sources sinks greenhouse gases second half centuri': array([0.2937013]),\n",
              " '” words, hit net zero emissions around mid-centuri': array([0.53099079])}"
            ]
          },
          "metadata": {},
          "execution_count": 15
        }
      ]
    },
    {
      "cell_type": "code",
      "metadata": {
        "colab": {
          "base_uri": "https://localhost:8080/"
        },
        "id": "bEb6UpSEveiP",
        "outputId": "6e3df09d-3d15-4250-e9d3-0a8bbe873645"
      },
      "source": [
        "# calculate MMR\n",
        "n = 20 * len(sentences) / 100 #Set mau seberapa banyak hasil dari summarisasi\n",
        "alpha = 0.5 #Set Nilai Alpha\n",
        "summarySet = [] #Set list kosong untuk menyimpan hasil teks summarisasi\n",
        "\n",
        "while n > 0: #melakukan looping selama nilai n (banyak kalimat yg akan diekstraksi) lebih besar dari 0\n",
        "\tmmr = {} #Inisialisasi dictionary untuk menyimpan nilai MMR \n",
        "\t#kurangkan dengan set summary\n",
        "  # Removed dict.iteritems(), dict.iterkeys(), and dict.itervalues().\n",
        "  # Instead: use dict.items(), dict.keys(), and dict.values() respectively.\n",
        "\n",
        "\tfor sentence in scores.keys():\n",
        "\t\tif not sentence in summarySet:\n",
        "\t\t\tmmr[sentence] = alpha * scores[sentence] - (1-alpha) * calculateSimilarity(sentence, summarySet) #Mencari nilai MMR tiap kalimat yg ada pada document terhadap text yg sudah dirangkum\n",
        "\t \n",
        "\tselected = max(mmr.items(), key=operator.itemgetter(1))[0]\t#Memilih teks dengan nilai MMR paling besar dari proses sebelumnya\n",
        "\t\n",
        "\tsummarySet.append(selected) #Menyimpan text tersebut kedalam list yg menyimpan hasil text sunmarisasi\n",
        "\tprint(summarySet) #Melihat text apa saja yg sudah masuk kedalam hasil summarisasi\n",
        "\tn -= 1\n",
        "\n",
        "#print str(time.time() - start)"
      ],
      "execution_count": null,
      "outputs": [
        {
          "output_type": "stream",
          "name": "stdout",
          "text": [
            "['un climate science panel said global carbon dioxide emissions must fall 45 per cent 2030, net zero 2050, world chance avoiding devastating consequences breaching 1']\n",
            "['un climate science panel said global carbon dioxide emissions must fall 45 per cent 2030, net zero 2050, world chance avoiding devastating consequences breaching 1', 'greenhouse gas removals come']\n",
            "['un climate science panel said global carbon dioxide emissions must fall 45 per cent 2030, net zero 2050, world chance avoiding devastating consequences breaching 1', 'greenhouse gas removals come', 'figures, former bank england governor mark carney, stirred controversy appearing suggest alternative definitions net zero']\n",
            "['un climate science panel said global carbon dioxide emissions must fall 45 per cent 2030, net zero 2050, world chance avoiding devastating consequences breaching 1', 'greenhouse gas removals come', 'figures, former bank england governor mark carney, stirred controversy appearing suggest alternative definitions net zero', 'another whether net zero cover carbon emissions greenhouse gas emissions, including others methane, comes principally farming oil gas product']\n",
            "['un climate science panel said global carbon dioxide emissions must fall 45 per cent 2030, net zero 2050, world chance avoiding devastating consequences breaching 1', 'greenhouse gas removals come', 'figures, former bank england governor mark carney, stirred controversy appearing suggest alternative definitions net zero', 'another whether net zero cover carbon emissions greenhouse gas emissions, including others methane, comes principally farming oil gas product', 'businesses, sub-national actors states regions, also set similar target']\n",
            "['un climate science panel said global carbon dioxide emissions must fall 45 per cent 2030, net zero 2050, world chance avoiding devastating consequences breaching 1', 'greenhouse gas removals come', 'figures, former bank england governor mark carney, stirred controversy appearing suggest alternative definitions net zero', 'another whether net zero cover carbon emissions greenhouse gas emissions, including others methane, comes principally farming oil gas product', 'businesses, sub-national actors states regions, also set similar target', 'concern quarters companies countries “greenwashing” announcing net zero targets putting sufficient action place meet']\n",
            "['un climate science panel said global carbon dioxide emissions must fall 45 per cent 2030, net zero 2050, world chance avoiding devastating consequences breaching 1', 'greenhouse gas removals come', 'figures, former bank england governor mark carney, stirred controversy appearing suggest alternative definitions net zero', 'another whether net zero cover carbon emissions greenhouse gas emissions, including others methane, comes principally farming oil gas product', 'businesses, sub-national actors states regions, also set similar target', 'concern quarters companies countries “greenwashing” announcing net zero targets putting sufficient action place meet', '']\n",
            "['un climate science panel said global carbon dioxide emissions must fall 45 per cent 2030, net zero 2050, world chance avoiding devastating consequences breaching 1', 'greenhouse gas removals come', 'figures, former bank england governor mark carney, stirred controversy appearing suggest alternative definitions net zero', 'another whether net zero cover carbon emissions greenhouse gas emissions, including others methane, comes principally farming oil gas product', 'businesses, sub-national actors states regions, also set similar target', 'concern quarters companies countries “greenwashing” announcing net zero targets putting sufficient action place meet', '', '5°c warm']\n",
            "['un climate science panel said global carbon dioxide emissions must fall 45 per cent 2030, net zero 2050, world chance avoiding devastating consequences breaching 1', 'greenhouse gas removals come', 'figures, former bank england governor mark carney, stirred controversy appearing suggest alternative definitions net zero', 'another whether net zero cover carbon emissions greenhouse gas emissions, including others methane, comes principally farming oil gas product', 'businesses, sub-national actors states regions, also set similar target', 'concern quarters companies countries “greenwashing” announcing net zero targets putting sufficient action place meet', '', '5°c warm', '5°c threshold']\n"
          ]
        }
      ]
    },
    {
      "cell_type": "code",
      "metadata": {
        "colab": {
          "base_uri": "https://localhost:8080/"
        },
        "id": "5VB0r5qOvqlw",
        "outputId": "ab44f4ff-1ed9-4920-9e2e-93a07b68101c"
      },
      "source": [
        "# Menampilkan hasil Summary\n",
        "\n",
        "print ('\\nSummary (hasil teks yang diringkas):\\n')\n",
        "\n",
        "for sentence in summarySet: #Tadi yang kita simpan didalam summarySet adalah text yg sudah disummarisasi tetapi itu hasil dari proses cleaning, disini kita mengambil text aslinya dari dictionary sentence\n",
        "\tprint (originalSentenceOf[sentence].lstrip(' '))\n",
        "print ('')"
      ],
      "execution_count": null,
      "outputs": [
        {
          "output_type": "stream",
          "name": "stdout",
          "text": [
            "\n",
            "Summary (hasil teks yang diringkas):\n",
            "\n",
            "The UN climate science panel said that global carbon dioxide emissions must fall by about 45 per cent by 2030, and to net zero by 2050, for the world to have a chance of avoiding the devastating consequences of breaching the 1\n",
            "That is where greenhouse gas removals come in\n",
            "Some figures, such as former Bank of England governor Mark Carney, have stirred controversy by appearing to suggest alternative definitions of net zero\n",
            "Another is over whether net zero should cover just carbon emissions or all greenhouse gas emissions, including others such as methane, which comes principally from farming and oil and gas production\n",
            "Businesses, and sub-national actors such as states and regions, have also set similar targets\n",
            "There is concern in some quarters that companies and countries are “greenwashing” by announcing net zero targets but not putting sufficient action in place to meet them\n",
            "\n",
            "5°C of warming\n",
            "5°C threshold\n",
            "\n"
          ]
        }
      ]
    },
    {
      "cell_type": "code",
      "metadata": {
        "colab": {
          "base_uri": "https://localhost:8080/"
        },
        "id": "7tL89JKfvu2Q",
        "outputId": "533f1ca9-9b06-462b-b979-66df181e3c62"
      },
      "source": [
        "print ('=============================================================')\n",
        "print ('\\nOriginal Passages (Teks Asli):\\n')\n",
        "from termcolor import colored # tools untuk membuat highlight merah\n",
        "\n",
        "for sentence in clean:\n",
        "\tif sentence in summarySet:\n",
        "\t\tprint (colored(originalSentenceOf[sentence].lstrip(' '), 'yellow'))\n",
        "\telse:\n",
        "\t\tprint (originalSentenceOf[sentence].lstrip(' '))"
      ],
      "execution_count": null,
      "outputs": [
        {
          "output_type": "stream",
          "name": "stdout",
          "text": [
            "=============================================================\n",
            "\n",
            "Original Passages (Teks Asli):\n",
            "\n",
            "The concept of net zero greenhouse gas emissions was first popularised by the Paris Agreement, a landmark deal that was agreed at the United Nations Climate Change Conference (COP21) to limit the impact of greenhouse gas emissions\n",
            "At the watershed meeting, nearly 200 countries agreed “to achieve a balance between anthropogenic emissions by sources by sinks of greenhouse gases in the second half of this century\n",
            "” In other words, hit net zero emissions by around mid-century\n",
            "\u001b[33m\u001b[0m\n",
            "\u001b[33m\u001b[0m\n",
            "In 2018 the timeline and need for the goal was spelt out more clearly, by the Intergovernmental Panel on Climate Change’s report on stopping 1\n",
            "\u001b[33m5°C of warming\u001b[0m\n",
            "\u001b[33mThe UN climate science panel said that global carbon dioxide emissions must fall by about 45 per cent by 2030, and to net zero by 2050, for the world to have a chance of avoiding the devastating consequences of breaching the 1\u001b[0m\n",
            "\u001b[33m5°C threshold\u001b[0m\n",
            "\u001b[33m\u001b[0m\n",
            "\u001b[33m\u001b[0m\n",
            "That report helped spur countries including Sweden to set a goal of net zero emissions by 2050, followed by the UK in 2019, the first major economy to do so\n",
            "In 2020, China, the world’s biggest emitter, pledged it would reach “carbon neutrality” by 2060\n",
            "\u001b[33mBusinesses, and sub-national actors such as states and regions, have also set similar targets\u001b[0m\n",
            "\u001b[33m\u001b[0m\n",
            "\u001b[33m\u001b[0m\n",
            "Why net rather than just zero? Even if we decarbonise our electricity grids entirely, make green hydrogen production affordable and dramatically scale up carbon capture and storage, there will still be a rump of emissions left by 2050\n",
            "Most of those will come from hard- or impossible-to-abate sectors including farming, aviation, some heavy industry and waste\n",
            "\u001b[33m\u001b[0m\n",
            "\u001b[33m\u001b[0m\n",
            "Advertisement\n",
            "\u001b[33m\u001b[0m\n",
            "\u001b[33mThat is where greenhouse gas removals come in\u001b[0m\n",
            "Tree-planting, restoring peatlands, and technologies such as direct air capture of CO2 can tip the carbon accounting scales to cancel out the remaining rump, leaving a country or business at net zero\n",
            "\u001b[33m\u001b[0m\n",
            "\u001b[33m\u001b[0m\n",
            "There are a few technical but important questions around the best ways to achieve net zero\n",
            "One is over whether “carbon credits” from other countries should be allowed to count towards a country’s progress\n",
            "The UK government’s advisers, the Climate Change Committee (CCC), argues they should not, because of the expense but also because all countries will eventually need to reach net zero, so that option will vanish\n",
            "\u001b[33m\u001b[0m\n",
            "\u001b[33m\u001b[0m\n",
            "\u001b[33mAnother is over whether net zero should cover just carbon emissions or all greenhouse gas emissions, including others such as methane, which comes principally from farming and oil and gas production\u001b[0m\n",
            "The CCC says it is better to cover all greenhouse gas emissions\n",
            "\u001b[33m\u001b[0m\n",
            "\u001b[33m\u001b[0m\n",
            "\u001b[33mSome figures, such as former Bank of England governor Mark Carney, have stirred controversy by appearing to suggest alternative definitions of net zero\u001b[0m\n",
            "He claimed the asset manager where he works, Brookfield Asset Management Inc, was net zero because its investments in renewable energy “avoid emissions”, despite the firm holding major investments in coal, oil and gas\n",
            "Carney later rowed back on the claim\n",
            "\u001b[33m\u001b[0m\n",
            "\u001b[33m\u001b[0m\n",
            "\u001b[33mThere is concern in some quarters that companies and countries are “greenwashing” by announcing net zero targets but not putting sufficient action in place to meet them\u001b[0m\n",
            "The UK, for example, made its target law in June 2019 but as of March 2020 is still off-track to meet even its near-term targets for the mid-2020s, let alone long-term net zero by 2050\n",
            "\u001b[33m\u001b[0m\n"
          ]
        }
      ]
    }
  ]
}